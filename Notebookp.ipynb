{
 "cells": [
  {
   "cell_type": "markdown",
   "metadata": {},
   "source": [
    "# *IRIS.BARUBELAJAR | KAGGLE COMPETITION | CUSTOMER CHURN*"
   ]
  },
  {
   "cell_type": "markdown",
   "metadata": {},
   "source": [
    "## IMPORT LIBRARY"
   ]
  },
  {
   "cell_type": "code",
   "execution_count": 128,
   "metadata": {},
   "outputs": [],
   "source": [
    "import pandas as pd\n",
    "import matplotlib.pyplot as plt \n",
    "import numpy as np\n",
    "import seaborn as sns\n",
    "from sklearn.model_selection import train_test_split, GridSearchCV, cross_val_score\n",
    "from sklearn.experimental import enable_iterative_imputer\n",
    "from sklearn.impute import SimpleImputer, IterativeImputer\n",
    "from sklearn.preprocessing import StandardScaler, OneHotEncoder, LabelEncoder\n",
    "from sklearn.compose import ColumnTransformer\n",
    "from sklearn.pipeline import Pipeline\n",
    "from sklearn.linear_model import LogisticRegression\n",
    "from xgboost import XGBClassifier\n",
    "from catboost import CatBoostClassifier\n",
    "from lightgbm import LGBMClassifier\n",
    "from sklearn.tree import DecisionTreeClassifier\n",
    "from sklearn.ensemble import AdaBoostClassifier, RandomForestClassifier, ExtraTreesClassifier\n",
    "from sklearn.svm import SVC\n",
    "from sklearn.neighbors import KNeighborsClassifier\n",
    "from sklearn.metrics import accuracy_score, f1_score\n",
    "import optuna"
   ]
  },
  {
   "cell_type": "markdown",
   "metadata": {},
   "source": [
    "## IMPORT DATASET"
   ]
  },
  {
   "cell_type": "code",
   "execution_count": 129,
   "metadata": {},
   "outputs": [],
   "source": [
    "df_train = pd.read_csv('train.csv')\n",
    "df_test = pd.read_csv('test.csv')\n",
    "submission = pd.read_csv('sample_submission.csv')"
   ]
  },
  {
   "cell_type": "code",
   "execution_count": 130,
   "metadata": {},
   "outputs": [
    {
     "data": {
      "text/html": [
       "<div>\n",
       "<style scoped>\n",
       "    .dataframe tbody tr th:only-of-type {\n",
       "        vertical-align: middle;\n",
       "    }\n",
       "\n",
       "    .dataframe tbody tr th {\n",
       "        vertical-align: top;\n",
       "    }\n",
       "\n",
       "    .dataframe thead th {\n",
       "        text-align: right;\n",
       "    }\n",
       "</style>\n",
       "<table border=\"1\" class=\"dataframe\">\n",
       "  <thead>\n",
       "    <tr style=\"text-align: right;\">\n",
       "      <th></th>\n",
       "      <th>customer_id</th>\n",
       "      <th>credit_score</th>\n",
       "      <th>country</th>\n",
       "      <th>gender</th>\n",
       "      <th>age</th>\n",
       "      <th>tenure</th>\n",
       "      <th>balance</th>\n",
       "      <th>products_number</th>\n",
       "      <th>credit_card</th>\n",
       "      <th>active_member</th>\n",
       "      <th>estimated_salary</th>\n",
       "      <th>churn</th>\n",
       "    </tr>\n",
       "  </thead>\n",
       "  <tbody>\n",
       "    <tr>\n",
       "      <th>0</th>\n",
       "      <td>15687492</td>\n",
       "      <td>596</td>\n",
       "      <td>jabar</td>\n",
       "      <td>Male</td>\n",
       "      <td>32.0</td>\n",
       "      <td>3.0</td>\n",
       "      <td>150268487.1</td>\n",
       "      <td>2.0</td>\n",
       "      <td>0.0</td>\n",
       "      <td>0.0</td>\n",
       "      <td>6.493161e+07</td>\n",
       "      <td>0</td>\n",
       "    </tr>\n",
       "    <tr>\n",
       "      <th>1</th>\n",
       "      <td>15736963</td>\n",
       "      <td>623</td>\n",
       "      <td>Jawa Timur</td>\n",
       "      <td>Male</td>\n",
       "      <td>43.0</td>\n",
       "      <td>1.0</td>\n",
       "      <td>0.0</td>\n",
       "      <td>2.0</td>\n",
       "      <td>1.0</td>\n",
       "      <td>1.0</td>\n",
       "      <td>2.274471e+08</td>\n",
       "      <td>0</td>\n",
       "    </tr>\n",
       "    <tr>\n",
       "      <th>2</th>\n",
       "      <td>15721730</td>\n",
       "      <td>601</td>\n",
       "      <td>Jawa Tengah</td>\n",
       "      <td>Female</td>\n",
       "      <td>44.0</td>\n",
       "      <td>4.0</td>\n",
       "      <td>0.0</td>\n",
       "      <td>2.0</td>\n",
       "      <td>1.0</td>\n",
       "      <td>0.0</td>\n",
       "      <td>9.099373e+07</td>\n",
       "      <td>0</td>\n",
       "    </tr>\n",
       "    <tr>\n",
       "      <th>3</th>\n",
       "      <td>15762134</td>\n",
       "      <td>506</td>\n",
       "      <td>Jawa Barat</td>\n",
       "      <td>Male</td>\n",
       "      <td>59.0</td>\n",
       "      <td>8.0</td>\n",
       "      <td>185140916.0</td>\n",
       "      <td>2.0</td>\n",
       "      <td>1.0</td>\n",
       "      <td>1.0</td>\n",
       "      <td>2.652056e+08</td>\n",
       "      <td>0</td>\n",
       "    </tr>\n",
       "    <tr>\n",
       "      <th>4</th>\n",
       "      <td>15648898</td>\n",
       "      <td>560</td>\n",
       "      <td>Jawa Tengah</td>\n",
       "      <td>Female</td>\n",
       "      <td>27.0</td>\n",
       "      <td>NaN</td>\n",
       "      <td>194221253.6</td>\n",
       "      <td>1.0</td>\n",
       "      <td>1.0</td>\n",
       "      <td>1.0</td>\n",
       "      <td>1.781762e+08</td>\n",
       "      <td>0</td>\n",
       "    </tr>\n",
       "  </tbody>\n",
       "</table>\n",
       "</div>"
      ],
      "text/plain": [
       "   customer_id  credit_score      country  gender   age  tenure      balance  \\\n",
       "0     15687492           596        jabar    Male  32.0     3.0  150268487.1   \n",
       "1     15736963           623   Jawa Timur    Male  43.0     1.0          0.0   \n",
       "2     15721730           601  Jawa Tengah  Female  44.0     4.0          0.0   \n",
       "3     15762134           506   Jawa Barat    Male  59.0     8.0  185140916.0   \n",
       "4     15648898           560  Jawa Tengah  Female  27.0     NaN  194221253.6   \n",
       "\n",
       "   products_number  credit_card  active_member  estimated_salary  churn  \n",
       "0              2.0          0.0            0.0      6.493161e+07      0  \n",
       "1              2.0          1.0            1.0      2.274471e+08      0  \n",
       "2              2.0          1.0            0.0      9.099373e+07      0  \n",
       "3              2.0          1.0            1.0      2.652056e+08      0  \n",
       "4              1.0          1.0            1.0      1.781762e+08      0  "
      ]
     },
     "execution_count": 130,
     "metadata": {},
     "output_type": "execute_result"
    }
   ],
   "source": [
    "df_train.head()"
   ]
  },
  {
   "cell_type": "code",
   "execution_count": 131,
   "metadata": {},
   "outputs": [
    {
     "data": {
      "text/html": [
       "<div>\n",
       "<style scoped>\n",
       "    .dataframe tbody tr th:only-of-type {\n",
       "        vertical-align: middle;\n",
       "    }\n",
       "\n",
       "    .dataframe tbody tr th {\n",
       "        vertical-align: top;\n",
       "    }\n",
       "\n",
       "    .dataframe thead th {\n",
       "        text-align: right;\n",
       "    }\n",
       "</style>\n",
       "<table border=\"1\" class=\"dataframe\">\n",
       "  <thead>\n",
       "    <tr style=\"text-align: right;\">\n",
       "      <th></th>\n",
       "      <th>customer_id</th>\n",
       "      <th>credit_score</th>\n",
       "      <th>country</th>\n",
       "      <th>gender</th>\n",
       "      <th>age</th>\n",
       "      <th>tenure</th>\n",
       "      <th>balance</th>\n",
       "      <th>products_number</th>\n",
       "      <th>credit_card</th>\n",
       "      <th>active_member</th>\n",
       "      <th>estimated_salary</th>\n",
       "    </tr>\n",
       "  </thead>\n",
       "  <tbody>\n",
       "    <tr>\n",
       "      <th>0</th>\n",
       "      <td>15782993</td>\n",
       "      <td>624</td>\n",
       "      <td>Jawa Timur</td>\n",
       "      <td>Male</td>\n",
       "      <td>51</td>\n",
       "      <td>10</td>\n",
       "      <td>191743610.0</td>\n",
       "      <td>2</td>\n",
       "      <td>1</td>\n",
       "      <td>1</td>\n",
       "      <td>1.986174e+08</td>\n",
       "    </tr>\n",
       "    <tr>\n",
       "      <th>1</th>\n",
       "      <td>15640442</td>\n",
       "      <td>717</td>\n",
       "      <td>Jawa Timur</td>\n",
       "      <td>Male</td>\n",
       "      <td>31</td>\n",
       "      <td>4</td>\n",
       "      <td>201565523.7</td>\n",
       "      <td>1</td>\n",
       "      <td>0</td>\n",
       "      <td>0</td>\n",
       "      <td>6.398102e+07</td>\n",
       "    </tr>\n",
       "    <tr>\n",
       "      <th>2</th>\n",
       "      <td>15606003</td>\n",
       "      <td>566</td>\n",
       "      <td>Jawa Timur</td>\n",
       "      <td>Female</td>\n",
       "      <td>21</td>\n",
       "      <td>3</td>\n",
       "      <td>0.0</td>\n",
       "      <td>2</td>\n",
       "      <td>1</td>\n",
       "      <td>1</td>\n",
       "      <td>5.634882e+06</td>\n",
       "    </tr>\n",
       "    <tr>\n",
       "      <th>3</th>\n",
       "      <td>15672374</td>\n",
       "      <td>672</td>\n",
       "      <td>Jawa Timur</td>\n",
       "      <td>Male</td>\n",
       "      <td>52</td>\n",
       "      <td>8</td>\n",
       "      <td>264163135.8</td>\n",
       "      <td>1</td>\n",
       "      <td>0</td>\n",
       "      <td>0</td>\n",
       "      <td>8.764698e+07</td>\n",
       "    </tr>\n",
       "    <tr>\n",
       "      <th>4</th>\n",
       "      <td>15630725</td>\n",
       "      <td>649</td>\n",
       "      <td>Jawa Timur</td>\n",
       "      <td>Female</td>\n",
       "      <td>45</td>\n",
       "      <td>5</td>\n",
       "      <td>144173768.0</td>\n",
       "      <td>1</td>\n",
       "      <td>1</td>\n",
       "      <td>0</td>\n",
       "      <td>2.693794e+08</td>\n",
       "    </tr>\n",
       "  </tbody>\n",
       "</table>\n",
       "</div>"
      ],
      "text/plain": [
       "   customer_id  credit_score     country  gender  age  tenure      balance  \\\n",
       "0     15782993           624  Jawa Timur    Male   51      10  191743610.0   \n",
       "1     15640442           717  Jawa Timur    Male   31       4  201565523.7   \n",
       "2     15606003           566  Jawa Timur  Female   21       3          0.0   \n",
       "3     15672374           672  Jawa Timur    Male   52       8  264163135.8   \n",
       "4     15630725           649  Jawa Timur  Female   45       5  144173768.0   \n",
       "\n",
       "   products_number  credit_card  active_member  estimated_salary  \n",
       "0                2            1              1      1.986174e+08  \n",
       "1                1            0              0      6.398102e+07  \n",
       "2                2            1              1      5.634882e+06  \n",
       "3                1            0              0      8.764698e+07  \n",
       "4                1            1              0      2.693794e+08  "
      ]
     },
     "execution_count": 131,
     "metadata": {},
     "output_type": "execute_result"
    }
   ],
   "source": [
    "df_test.head()"
   ]
  },
  {
   "cell_type": "code",
   "execution_count": 132,
   "metadata": {},
   "outputs": [
    {
     "name": "stdout",
     "output_type": "stream",
     "text": [
      "<class 'pandas.core.frame.DataFrame'>\n",
      "RangeIndex: 7000 entries, 0 to 6999\n",
      "Data columns (total 12 columns):\n",
      " #   Column            Non-Null Count  Dtype  \n",
      "---  ------            --------------  -----  \n",
      " 0   customer_id       7000 non-null   int64  \n",
      " 1   credit_score      7000 non-null   int64  \n",
      " 2   country           6845 non-null   object \n",
      " 3   gender            7000 non-null   object \n",
      " 4   age               6759 non-null   float64\n",
      " 5   tenure            6712 non-null   float64\n",
      " 6   balance           6883 non-null   float64\n",
      " 7   products_number   6852 non-null   float64\n",
      " 8   credit_card       6841 non-null   float64\n",
      " 9   active_member     6863 non-null   float64\n",
      " 10  estimated_salary  6855 non-null   float64\n",
      " 11  churn             7000 non-null   int64  \n",
      "dtypes: float64(7), int64(3), object(2)\n",
      "memory usage: 656.4+ KB\n"
     ]
    }
   ],
   "source": [
    "df_train.info()"
   ]
  },
  {
   "cell_type": "code",
   "execution_count": 133,
   "metadata": {},
   "outputs": [
    {
     "name": "stdout",
     "output_type": "stream",
     "text": [
      "<class 'pandas.core.frame.DataFrame'>\n",
      "RangeIndex: 3000 entries, 0 to 2999\n",
      "Data columns (total 11 columns):\n",
      " #   Column            Non-Null Count  Dtype  \n",
      "---  ------            --------------  -----  \n",
      " 0   customer_id       3000 non-null   int64  \n",
      " 1   credit_score      3000 non-null   int64  \n",
      " 2   country           3000 non-null   object \n",
      " 3   gender            3000 non-null   object \n",
      " 4   age               3000 non-null   int64  \n",
      " 5   tenure            3000 non-null   int64  \n",
      " 6   balance           3000 non-null   float64\n",
      " 7   products_number   3000 non-null   int64  \n",
      " 8   credit_card       3000 non-null   int64  \n",
      " 9   active_member     3000 non-null   int64  \n",
      " 10  estimated_salary  3000 non-null   float64\n",
      "dtypes: float64(2), int64(7), object(2)\n",
      "memory usage: 257.9+ KB\n"
     ]
    }
   ],
   "source": [
    "df_test.info()"
   ]
  },
  {
   "cell_type": "code",
   "execution_count": 134,
   "metadata": {},
   "outputs": [
    {
     "data": {
      "text/plain": [
       "0    5590\n",
       "1    1410\n",
       "Name: churn, dtype: int64"
      ]
     },
     "execution_count": 134,
     "metadata": {},
     "output_type": "execute_result"
    }
   ],
   "source": [
    "df_train['churn'].value_counts()\n"
   ]
  },
  {
   "cell_type": "code",
   "execution_count": 135,
   "metadata": {},
   "outputs": [
    {
     "data": {
      "text/plain": [
       "Jawa Timur     2758\n",
       "Jawa Barat     1414\n",
       "Jawa Tengah    1336\n",
       "jatim           337\n",
       "jawatimur       329\n",
       "jawatengah      175\n",
       "jawabarat       174\n",
       "jabar           161\n",
       "jateng          161\n",
       "Name: country, dtype: int64"
      ]
     },
     "execution_count": 135,
     "metadata": {},
     "output_type": "execute_result"
    }
   ],
   "source": [
    "df_train['country'].value_counts()"
   ]
  },
  {
   "cell_type": "markdown",
   "metadata": {},
   "source": [
    "## DATA PREPROCESSING"
   ]
  },
  {
   "cell_type": "markdown",
   "metadata": {},
   "source": [
    "### DROP FEATURES CUSTOMER_ID"
   ]
  },
  {
   "cell_type": "code",
   "execution_count": 136,
   "metadata": {},
   "outputs": [],
   "source": [
    "df_train = df_train.drop(['customer_id'], axis=1)"
   ]
  },
  {
   "cell_type": "markdown",
   "metadata": {},
   "source": [
    "## CEK TIPE DATA"
   ]
  },
  {
   "cell_type": "code",
   "execution_count": 137,
   "metadata": {},
   "outputs": [
    {
     "data": {
      "text/plain": [
       "credit_score          int64\n",
       "country              object\n",
       "gender               object\n",
       "age                 float64\n",
       "tenure              float64\n",
       "balance             float64\n",
       "products_number     float64\n",
       "credit_card         float64\n",
       "active_member       float64\n",
       "estimated_salary    float64\n",
       "churn                 int64\n",
       "dtype: object"
      ]
     },
     "execution_count": 137,
     "metadata": {},
     "output_type": "execute_result"
    }
   ],
   "source": [
    "df_train.dtypes"
   ]
  },
  {
   "cell_type": "markdown",
   "metadata": {},
   "source": [
    "### MISSING VALUE"
   ]
  },
  {
   "cell_type": "markdown",
   "metadata": {},
   "source": [
    "#### country\n"
   ]
  },
  {
   "cell_type": "code",
   "execution_count": 138,
   "metadata": {},
   "outputs": [
    {
     "name": "stdout",
     "output_type": "stream",
     "text": [
      "['jabar' 'Jawa Timur' 'Jawa Tengah' 'Jawa Barat' 'jateng' 'jawabarat'\n",
      " 'jawatimur' 'jatim' 'jawatengah' nan]\n"
     ]
    }
   ],
   "source": [
    "print(df_train['country'].unique())"
   ]
  },
  {
   "cell_type": "code",
   "execution_count": 139,
   "metadata": {},
   "outputs": [
    {
     "data": {
      "text/plain": [
       "0             Jabar\n",
       "1        Jawa timur\n",
       "2       Jawa tengah\n",
       "3        Jawa barat\n",
       "4       Jawa tengah\n",
       "           ...     \n",
       "6995     Jawa timur\n",
       "6996      Jawabarat\n",
       "6997      Jawatimur\n",
       "6998     Jawa timur\n",
       "6999    Jawa tengah\n",
       "Name: country, Length: 7000, dtype: object"
      ]
     },
     "execution_count": 139,
     "metadata": {},
     "output_type": "execute_result"
    }
   ],
   "source": [
    "# Memastikan seluruh data tertulis dalam kapital\n",
    "df_train['country'] = df_train['country'].str.capitalize()\n",
    "df_train[\"country\"]"
   ]
  },
  {
   "cell_type": "code",
   "execution_count": 140,
   "metadata": {},
   "outputs": [
    {
     "name": "stdout",
     "output_type": "stream",
     "text": [
      "['Jabar' 'Jawa timur' 'Jawa tengah' 'Jawa barat' 'Jateng' 'Jawabarat'\n",
      " 'Jawatimur' 'Jatim' 'Jawatengah' nan]\n"
     ]
    }
   ],
   "source": [
    "print(df_train['country'].unique())"
   ]
  },
  {
   "cell_type": "code",
   "execution_count": 141,
   "metadata": {},
   "outputs": [
    {
     "name": "stdout",
     "output_type": "stream",
     "text": [
      "['Jawa Barat' 'Jawa Timur' 'Jawa Tengah' 'Jawabarat' 'Jawatimur'\n",
      " 'Jawatengah' nan]\n"
     ]
    }
   ],
   "source": [
    "\n",
    "\n",
    "# Daftar pemetaan untuk penggantian\n",
    "mapping = {'Jabar': 'Jawa Barat', 'Jatim': 'Jawa Timur', 'Jateng': 'Jawa Tengah', 'Jawa barat': 'Jawa Barat', 'Jawa timur':'Jawa Timur', 'Jawa tengah': 'Jawa Tengah'}\n",
    "\n",
    "# Melakukan penggantian nilai\n",
    "df_train['country'] = df_train['country'].replace(mapping)\n",
    "\n",
    "# Tampilkan hasil\n",
    "print(df_train['country'].unique())\n"
   ]
  },
  {
   "cell_type": "markdown",
   "metadata": {},
   "source": [
    "## gender"
   ]
  },
  {
   "cell_type": "code",
   "execution_count": 142,
   "metadata": {},
   "outputs": [
    {
     "name": "stdout",
     "output_type": "stream",
     "text": [
      "['Male' 'Female']\n"
     ]
    }
   ],
   "source": [
    "print(df_train['gender'].unique())"
   ]
  },
  {
   "cell_type": "code",
   "execution_count": 143,
   "metadata": {},
   "outputs": [
    {
     "name": "stdout",
     "output_type": "stream",
     "text": [
      "credit_score          0\n",
      "country             155\n",
      "gender                0\n",
      "age                 241\n",
      "tenure              288\n",
      "balance             117\n",
      "products_number     148\n",
      "credit_card         159\n",
      "active_member       137\n",
      "estimated_salary    145\n",
      "churn                 0\n",
      "dtype: int64\n"
     ]
    }
   ],
   "source": [
    "print(df_train.isna().sum())"
   ]
  },
  {
   "cell_type": "markdown",
   "metadata": {},
   "source": [
    "### MEMISAHKAN DATA NUMERIK DAN KATEGORIK"
   ]
  },
  {
   "cell_type": "code",
   "execution_count": 144,
   "metadata": {},
   "outputs": [
    {
     "data": {
      "text/html": [
       "<div>\n",
       "<style scoped>\n",
       "    .dataframe tbody tr th:only-of-type {\n",
       "        vertical-align: middle;\n",
       "    }\n",
       "\n",
       "    .dataframe tbody tr th {\n",
       "        vertical-align: top;\n",
       "    }\n",
       "\n",
       "    .dataframe thead th {\n",
       "        text-align: right;\n",
       "    }\n",
       "</style>\n",
       "<table border=\"1\" class=\"dataframe\">\n",
       "  <thead>\n",
       "    <tr style=\"text-align: right;\">\n",
       "      <th></th>\n",
       "      <th>credit_score</th>\n",
       "      <th>country</th>\n",
       "      <th>gender</th>\n",
       "      <th>age</th>\n",
       "      <th>tenure</th>\n",
       "      <th>balance</th>\n",
       "      <th>products_number</th>\n",
       "      <th>credit_card</th>\n",
       "      <th>active_member</th>\n",
       "      <th>estimated_salary</th>\n",
       "      <th>churn</th>\n",
       "    </tr>\n",
       "  </thead>\n",
       "  <tbody>\n",
       "    <tr>\n",
       "      <th>0</th>\n",
       "      <td>596</td>\n",
       "      <td>Jawa Barat</td>\n",
       "      <td>Male</td>\n",
       "      <td>32.0</td>\n",
       "      <td>3.0</td>\n",
       "      <td>150268487.1</td>\n",
       "      <td>2.0</td>\n",
       "      <td>0.0</td>\n",
       "      <td>0.0</td>\n",
       "      <td>6.493161e+07</td>\n",
       "      <td>0</td>\n",
       "    </tr>\n",
       "    <tr>\n",
       "      <th>1</th>\n",
       "      <td>623</td>\n",
       "      <td>Jawa Timur</td>\n",
       "      <td>Male</td>\n",
       "      <td>43.0</td>\n",
       "      <td>1.0</td>\n",
       "      <td>0.0</td>\n",
       "      <td>2.0</td>\n",
       "      <td>1.0</td>\n",
       "      <td>1.0</td>\n",
       "      <td>2.274471e+08</td>\n",
       "      <td>0</td>\n",
       "    </tr>\n",
       "    <tr>\n",
       "      <th>2</th>\n",
       "      <td>601</td>\n",
       "      <td>Jawa Tengah</td>\n",
       "      <td>Female</td>\n",
       "      <td>44.0</td>\n",
       "      <td>4.0</td>\n",
       "      <td>0.0</td>\n",
       "      <td>2.0</td>\n",
       "      <td>1.0</td>\n",
       "      <td>0.0</td>\n",
       "      <td>9.099373e+07</td>\n",
       "      <td>0</td>\n",
       "    </tr>\n",
       "    <tr>\n",
       "      <th>3</th>\n",
       "      <td>506</td>\n",
       "      <td>Jawa Barat</td>\n",
       "      <td>Male</td>\n",
       "      <td>59.0</td>\n",
       "      <td>8.0</td>\n",
       "      <td>185140916.0</td>\n",
       "      <td>2.0</td>\n",
       "      <td>1.0</td>\n",
       "      <td>1.0</td>\n",
       "      <td>2.652056e+08</td>\n",
       "      <td>0</td>\n",
       "    </tr>\n",
       "    <tr>\n",
       "      <th>4</th>\n",
       "      <td>560</td>\n",
       "      <td>Jawa Tengah</td>\n",
       "      <td>Female</td>\n",
       "      <td>27.0</td>\n",
       "      <td>NaN</td>\n",
       "      <td>194221253.6</td>\n",
       "      <td>1.0</td>\n",
       "      <td>1.0</td>\n",
       "      <td>1.0</td>\n",
       "      <td>1.781762e+08</td>\n",
       "      <td>0</td>\n",
       "    </tr>\n",
       "  </tbody>\n",
       "</table>\n",
       "</div>"
      ],
      "text/plain": [
       "   credit_score      country  gender   age  tenure      balance  \\\n",
       "0           596   Jawa Barat    Male  32.0     3.0  150268487.1   \n",
       "1           623   Jawa Timur    Male  43.0     1.0          0.0   \n",
       "2           601  Jawa Tengah  Female  44.0     4.0          0.0   \n",
       "3           506   Jawa Barat    Male  59.0     8.0  185140916.0   \n",
       "4           560  Jawa Tengah  Female  27.0     NaN  194221253.6   \n",
       "\n",
       "   products_number  credit_card  active_member  estimated_salary  churn  \n",
       "0              2.0          0.0            0.0      6.493161e+07      0  \n",
       "1              2.0          1.0            1.0      2.274471e+08      0  \n",
       "2              2.0          1.0            0.0      9.099373e+07      0  \n",
       "3              2.0          1.0            1.0      2.652056e+08      0  \n",
       "4              1.0          1.0            1.0      1.781762e+08      0  "
      ]
     },
     "execution_count": 144,
     "metadata": {},
     "output_type": "execute_result"
    }
   ],
   "source": [
    "# Memisahkan data numerik dan kategorik\n",
    "numeric_features = ['credit_score', 'age', 'tenure', 'balance', 'products_number', 'estimated_salary']\n",
    "binary_features = ['credit_card', 'active_member']\n",
    "categorical_features = ['country', 'gender']\n",
    "df_train.head()"
   ]
  },
  {
   "cell_type": "markdown",
   "metadata": {},
   "source": [
    "### HANDLING MISSING VALUE"
   ]
  },
  {
   "cell_type": "code",
   "execution_count": 152,
   "metadata": {},
   "outputs": [],
   "source": [
    "numeric_transformer = Pipeline(steps=[\n",
    "    ('imputer', IterativeImputer(max_iter=10, random_state=0)),\n",
    "    ('scaler', StandardScaler())\n",
    "])\n",
    "\n",
    "binary_transformer = Pipeline(steps=[\n",
    "    ('imputer', SimpleImputer(strategy='most_frequent'))\n",
    "])\n",
    "\n",
    "categorical_transformer = Pipeline(steps=[\n",
    "    ('imputer', SimpleImputer(strategy='most_frequent')),\n",
    "    ('onehot', OneHotEncoder(handle_unknown='ignore'))\n",
    "])\n",
    "\n",
    "preprocessor = ColumnTransformer(\n",
    "    transformers=[\n",
    "        ('num', numeric_transformer, numeric_features),\n",
    "        ('bin', binary_transformer, binary_features),\n",
    "        ('cat', categorical_transformer, categorical_features)\n",
    "    ])\n"
   ]
  },
  {
   "cell_type": "code",
   "execution_count": null,
   "metadata": {},
   "outputs": [],
   "source": []
  },
  {
   "cell_type": "code",
   "execution_count": 150,
   "metadata": {},
   "outputs": [
    {
     "ename": "AttributeError",
     "evalue": "'numpy.ndarray' object has no attribute 'isna'",
     "output_type": "error",
     "traceback": [
      "\u001b[1;31m---------------------------------------------------------------------------\u001b[0m",
      "\u001b[1;31mAttributeError\u001b[0m                            Traceback (most recent call last)",
      "Cell \u001b[1;32mIn [150], line 2\u001b[0m\n\u001b[0;32m      1\u001b[0m \u001b[38;5;66;03m# Cek missing values\u001b[39;00m\n\u001b[1;32m----> 2\u001b[0m \u001b[38;5;28mprint\u001b[39m(\u001b[43mdf_train\u001b[49m\u001b[38;5;241;43m.\u001b[39;49m\u001b[43misna\u001b[49m()\u001b[38;5;241m.\u001b[39msum())\n\u001b[0;32m      3\u001b[0m \u001b[38;5;28mprint\u001b[39m(df_train\u001b[38;5;241m.\u001b[39misnull()\u001b[38;5;241m.\u001b[39many())\n",
      "\u001b[1;31mAttributeError\u001b[0m: 'numpy.ndarray' object has no attribute 'isna'"
     ]
    }
   ],
   "source": []
  },
  {
   "cell_type": "markdown",
   "metadata": {},
   "source": [
    "## HANDLING TYPE DATA"
   ]
  },
  {
   "cell_type": "code",
   "execution_count": 147,
   "metadata": {},
   "outputs": [
    {
     "ename": "NameError",
     "evalue": "name 'df' is not defined",
     "output_type": "error",
     "traceback": [
      "\u001b[1;31m---------------------------------------------------------------------------\u001b[0m",
      "\u001b[1;31mNameError\u001b[0m                                 Traceback (most recent call last)",
      "Cell \u001b[1;32mIn [147], line 1\u001b[0m\n\u001b[1;32m----> 1\u001b[0m \u001b[43mdf\u001b[49m\u001b[38;5;241m.\u001b[39mdtypes\n",
      "\u001b[1;31mNameError\u001b[0m: name 'df' is not defined"
     ]
    }
   ],
   "source": [
    "df.dtypes"
   ]
  },
  {
   "cell_type": "code",
   "execution_count": null,
   "metadata": {},
   "outputs": [],
   "source": [
    "col_int = ['age', 'tenure', 'balance', 'products_number', 'credit_card', 'active_member', 'estimated_salary']\n",
    "df[col_int] = df[col_int].astype('int64')"
   ]
  },
  {
   "cell_type": "code",
   "execution_count": null,
   "metadata": {},
   "outputs": [],
   "source": [
    "df.dtypes"
   ]
  },
  {
   "cell_type": "code",
   "execution_count": null,
   "metadata": {},
   "outputs": [],
   "source": [
    "unique_values = np.unique(df['churn'])\n",
    "print(unique_values)"
   ]
  },
  {
   "cell_type": "markdown",
   "metadata": {},
   "source": [
    "## EDA"
   ]
  },
  {
   "cell_type": "code",
   "execution_count": null,
   "metadata": {},
   "outputs": [],
   "source": [
    "import matplotlib.pyplot as plt\n",
    "import seaborn as sns\n",
    "\n",
    "# Misalkan df adalah DataFrame Anda\n",
    "\n",
    "# Memilih hanya kolom-kolom numerik\n",
    "numeric_cols = df.select_dtypes(include='number').columns\n",
    "\n",
    "# Set ukuran gambar dan jumlah kolom pada subplot\n",
    "num_cols = len(numeric_cols)\n",
    "fig, axes = plt.subplots(nrows=1, ncols=num_cols, figsize=(16, 4))\n",
    "\n",
    "# Iterasi melalui setiap kolom numerik dan membuat KDE plot\n",
    "for i, col in enumerate(numeric_cols):\n",
    "    # KDE plot\n",
    "    sns.kdeplot(df[col], ax=axes[i])\n",
    "    axes[i].set_title(f'KDE Plot - {col}')\n",
    "\n",
    "# Menampilkan gambar KDE plot\n",
    "plt.show()\n",
    "\n",
    "# Set ukuran gambar dan jumlah kolom pada subplot\n",
    "fig, axes = plt.subplots(nrows=1, ncols=num_cols, figsize=(16, 4))\n",
    "\n",
    "# Iterasi melalui setiap kolom numerik dan membuat boxplot\n",
    "for i, col in enumerate(numeric_cols):\n",
    "    # Boxplot\n",
    "    sns.boxplot(x=df[col], ax=axes[i])\n",
    "    axes[i].set_title(f'Boxplot - {col}')\n",
    "\n",
    "# Menampilkan gambar boxplot\n",
    "plt.show()\n"
   ]
  },
  {
   "cell_type": "code",
   "execution_count": null,
   "metadata": {},
   "outputs": [],
   "source": [
    "import pandas as pd\n",
    "\n",
    "# Fungsi untuk menangani outlier menggunakan IQR\n",
    "def handle_outliers_iqr(column):\n",
    "    Q1 = column.quantile(0.25)\n",
    "    Q3 = column.quantile(0.75)\n",
    "    IQR = Q3 - Q1\n",
    "    \n",
    "    lower_bound = Q1 - 1.5 * IQR\n",
    "    upper_bound = Q3 + 1.5 * IQR\n",
    "    \n",
    "    # Mengganti nilai outlier dengan batas atas dan batas bawah\n",
    "    column = column.apply(lambda x: upper_bound if x > upper_bound else (lower_bound if x < lower_bound else x))\n",
    "    \n",
    "    return column\n",
    "\n",
    "# Menangani outlier hanya pada fitur, bukan target\n",
    "for col in df.select_dtypes(include='number').columns:\n",
    "    if col != 'churn':\n",
    "        df[col] = handle_outliers_iqr(df[col])\n",
    "\n",
    "# Menampilkan DataFrame setelah menangani outlier\n",
    "print(df)\n"
   ]
  },
  {
   "cell_type": "code",
   "execution_count": null,
   "metadata": {},
   "outputs": [],
   "source": [
    "import pandas as pd\n",
    "\n",
    "# Misal df adalah DataFrame hasil dari data preprocessing\n",
    "num_rows, num_columns = df.shape\n",
    "\n",
    "print(\"Jumlah baris setelah data preprocessing:\", num_rows)\n"
   ]
  },
  {
   "cell_type": "code",
   "execution_count": null,
   "metadata": {},
   "outputs": [],
   "source": [
    "unique_values = np.unique(df['churn'])\n",
    "print(unique_values)"
   ]
  },
  {
   "cell_type": "code",
   "execution_count": null,
   "metadata": {},
   "outputs": [],
   "source": [
    "df['churn']"
   ]
  },
  {
   "cell_type": "markdown",
   "metadata": {},
   "source": [
    "## Label encoding"
   ]
  },
  {
   "cell_type": "code",
   "execution_count": null,
   "metadata": {},
   "outputs": [],
   "source": [
    "\n",
    "\n"
   ]
  },
  {
   "cell_type": "code",
   "execution_count": null,
   "metadata": {},
   "outputs": [],
   "source": [
    "\n",
    "\n",
    "from sklearn.preprocessing import LabelEncoder\n",
    "\n",
    "le = LabelEncoder()\n",
    "\n",
    "df[\"credit_score\"] = le.fit_transform(df[\"credit_score\"])\n",
    "df[\"country\"] = le.fit_transform(df[\"country\"])\n",
    "df[\"gender\"] = le.fit_transform(df[\"gender\"])\n",
    "df[\"age\"] = le.fit_transform(df[\"age\"])\n",
    "df[\"tenure\"] = le.fit_transform(df[\"tenure\"])\n",
    "df[\"balance\"] = le.fit_transform(df[\"balance\"])\n",
    "df[\"products_number\"] = le.fit_transform(df[\"products_number\"])\n",
    "df[\"credit_card\"] = le.fit_transform(df[\"credit_card\"])\n",
    "df[\"active_member\"] = le.fit_transform(df[\"active_member\"])\n",
    "df[\"estimated_salary\"] = le.fit_transform(df[\"estimated_salary\"])\n",
    "df.head()"
   ]
  },
  {
   "cell_type": "code",
   "execution_count": null,
   "metadata": {},
   "outputs": [],
   "source": [
    "import pandas as pd\n",
    "\n",
    "# Misal df adalah DataFrame hasil dari data preprocessing\n",
    "num_rows, num_columns = df.shape\n",
    "\n",
    "print(\"Jumlah baris setelah data preprocessing:\", num_rows)\n"
   ]
  },
  {
   "cell_type": "code",
   "execution_count": null,
   "metadata": {},
   "outputs": [],
   "source": [
    "print(test.columns)\n"
   ]
  },
  {
   "cell_type": "code",
   "execution_count": null,
   "metadata": {},
   "outputs": [],
   "source": [
    "\n"
   ]
  },
  {
   "cell_type": "code",
   "execution_count": null,
   "metadata": {},
   "outputs": [],
   "source": [
    "from sklearn.model_selection import train_test_split\n",
    "import optuna\n",
    "from imblearn.over_sampling import SMOTE\n",
    "from sklearn.ensemble import RandomForestClassifier\n",
    "from sklearn.metrics import accuracy_score\n",
    "from sklearn.model_selection import train_test_split\n",
    "\n",
    "# Memisahkan variabel independen dan dependen\n",
    "X = df.drop(columns=['churn'])\n",
    "y = df['churn']\n",
    "\n",
    "test_size = 3000 / 7000  # Proporsi data pengujian yang diinginkan\n",
    "\n",
    "\n",
    "# Membagi data menjadi train dan tes\n",
    "X_train, X_test, y_train, y_test = train_test_split(X, y, test_size= test_size, random_state=42)\n",
    "\n",
    "# Oversampling dengan SMOTE hanya pada data training\n",
    "smote = SMOTE(sampling_strategy=0.5, random_state=42)\n",
    "X_train_over, y_train_over = smote.fit_resample(X_train, y_train)\n",
    "\n",
    "# Fungsi objektif untuk keseluruhan pembelajaran model\n",
    "def objective(trial):\n",
    "    try:\n",
    "        # Hyperparameter terbaik akan ditemukan dari sini\n",
    "        param = {\n",
    "            'n_estimators': trial.suggest_int('n_estimators', 50, 200),\n",
    "            'max_depth': trial.suggest_int('max_depth', 5, 15),\n",
    "            'min_samples_split': trial.suggest_int('min_samples_split', 2, 10),\n",
    "            'min_samples_leaf': trial.suggest_int('min_samples_leaf', 2, 10),\n",
    "            'max_features': trial.suggest_float('max_features', 0.5, 1.0),\n",
    "            'bootstrap': trial.suggest_categorical('bootstrap', [True, False])\n",
    "        }\n",
    "\n",
    "        # Melatih model dengan data oversampled\n",
    "        rf_clf = RandomForestClassifier(**param, random_state=42)\n",
    "        rf_clf.fit(X_train, y_train)\n",
    "\n",
    "        # Melakukan Prediksi pada data uji yang sebenarnya tidak perlu di-oversample\n",
    "        preds = rf_clf.predict(X_test)\n",
    "        \n",
    "        # Menghitung Akurasi\n",
    "        accuracy = accuracy_score(y_test, preds)\n",
    "        return 1.0 - accuracy  # Minimalkan 1 - akurasi karena Optuna mencari nilai minimum\n",
    "\n",
    "    except Exception as e:\n",
    "        print(e)\n",
    "        return np.inf  # Mengembalikan nilai yang besar untuk menunjukkan kegagalan\n",
    "\n",
    "# Memastikan objek pembelajaran oleh Optuna\n",
    "study = optuna.create_study(direction='minimize')\n",
    "study.optimize(objective, n_trials=100)\n",
    "\n",
    "# Parameter Terbaik\n",
    "best_params = study.best_params\n",
    "print('Best parameters:', best_params)\n",
    "\n",
    "# Melatih model dengan parameter terbaik\n",
    "best_rf_clf = RandomForestClassifier(**best_params, random_state=42)\n",
    "\n",
    "# Melakukan oversampling pada data latih sebelum melatih model akhir\n",
    "X_train, y_train = smote.fit_resample(X_train, y_train)\n",
    "best_rf_clf.fit(X_train, y_train)\n",
    "\n",
    "# Melakukan prediksi pada data uji\n",
    "y_pred = best_rf_clf.predict(X_test)\n",
    "\n",
    "# Evaluasi model\n",
    "accuracy = accuracy_score(y_test, y_pred)\n",
    "print(f'Accuracy: {accuracy}')\n"
   ]
  },
  {
   "cell_type": "code",
   "execution_count": null,
   "metadata": {},
   "outputs": [],
   "source": [
    "\n",
    "# Melakukan cross-validation dengan F1 score sebagai metrik\n",
    "f1_scorer = make_scorer(y_pred)\n",
    "cross_val_scores = cross_val_score(model, X_train, y_train, cv=5, scoring=f1_scorer)\n",
    "\n",
    "# Menampilkan hasil cross-validation\n",
    "print(\"Cross-Validation F1 Scores:\", cross_val_scores)\n",
    "print(\"Mean F1 Score:\", np.mean(cross_val_scores))\n"
   ]
  },
  {
   "cell_type": "code",
   "execution_count": null,
   "metadata": {},
   "outputs": [],
   "source": [
    "import pandas as pd\n",
    "\n",
    "# Misal X_test dan y_test adalah Pandas DataFrame\n",
    "num_rows_X_test = X_test.shape[0]\n",
    "num_rows_y_test = y_test.shape[0]\n",
    "\n",
    "print(\"Jumlah baris X_test:\", num_rows_X_test)\n",
    "print(\"Jumlah baris y_test:\", num_rows_y_test)\n"
   ]
  },
  {
   "cell_type": "code",
   "execution_count": null,
   "metadata": {},
   "outputs": [],
   "source": [
    "\n"
   ]
  },
  {
   "cell_type": "code",
   "execution_count": null,
   "metadata": {},
   "outputs": [],
   "source": [
    "\n"
   ]
  },
  {
   "cell_type": "code",
   "execution_count": null,
   "metadata": {},
   "outputs": [],
   "source": [
    "# from sklearn.ensemble import RandomForestClassifier\n",
    "\n",
    "# rf_clf = RandomForestClassifier(random_state=42)\n",
    "# rf_clf.fit(X_train_over, y_train_over)\n"
   ]
  },
  {
   "cell_type": "code",
   "execution_count": null,
   "metadata": {},
   "outputs": [],
   "source": []
  },
  {
   "cell_type": "code",
   "execution_count": null,
   "metadata": {},
   "outputs": [],
   "source": [
    "# y_pred = rf_clf.predict(X_test)\n"
   ]
  },
  {
   "cell_type": "code",
   "execution_count": null,
   "metadata": {},
   "outputs": [],
   "source": [
    "# input_data_shape = y_pred.shape\n",
    "# print(\"Jumlah baris yang akan diuji:\", input_data_shape[0])\n"
   ]
  },
  {
   "cell_type": "code",
   "execution_count": null,
   "metadata": {},
   "outputs": [],
   "source": [
    "# from sklearn.metrics import accuracy_score, classification_report\n",
    "\n",
    "# accuracy = accuracy_score(y_test, y_pred)\n",
    "# report = classification_report(y_test, y_pred)\n",
    "\n",
    "# print(f'Accuracy: {accuracy}')\n",
    "# print(f'Classification Report:\\n{report}')\n"
   ]
  },
  {
   "cell_type": "code",
   "execution_count": null,
   "metadata": {},
   "outputs": [],
   "source": [
    "# from sklearn.svm import SVC\n",
    "\n",
    "# # Inisialisasi model SVM\n",
    "# svm_clf = SVC(random_state=42)\n",
    "\n",
    "# # Melatih model\n",
    "# svm_clf.fit(X_train_over, y_train_over)\n",
    "\n",
    "# # Membuat prediksi\n",
    "# y_pred_svm = svm_clf.predict(X_test)\n",
    "\n",
    "# # Evaluasi model\n",
    "# accuracy_svm = accuracy_score(y_test, y_pred_svm)\n",
    "# report_svm = classification_report(y_test, y_pred_svm)\n",
    "\n",
    "# print(f'SVM Accuracy: {accuracy_svm}')\n",
    "# print(f'SVM Classification Report:\\n{report_svm}')\n"
   ]
  },
  {
   "cell_type": "code",
   "execution_count": null,
   "metadata": {},
   "outputs": [],
   "source": [
    "# # Contoh menggunakan XGBoost\n",
    "# from xgboost import XGBClassifier\n",
    "\n",
    "# # Inisialisasi model XGBoost\n",
    "# xgb_clf = XGBClassifier(random_state=42)\n",
    "\n",
    "# # Melatih model\n",
    "# xgb_clf.fit(X_train_over, y_train_over)\n",
    "\n",
    "# # Membuat prediksi\n",
    "# y_pred_xgb = xgb_clf.predict(X_test)\n",
    "\n",
    "# # Evaluasi model\n",
    "# accuracy_xgb = accuracy_score(y_test, y_pred_xgb)\n",
    "# report_xgb = classification_report(y_test, y_pred_xgb)\n",
    "\n",
    "# print(f'XGBoost Accuracy: {accuracy_xgb}')\n",
    "# print(f'XGBoost Classification Report:\\n{report_xgb}')\n"
   ]
  },
  {
   "cell_type": "code",
   "execution_count": null,
   "metadata": {},
   "outputs": [],
   "source": [
    "# from sklearn.ensemble import RandomForestClassifier\n",
    "# from sklearn.metrics import accuracy_score, classification_report\n",
    "\n",
    "# # Inisialisasi model RandomForest dengan penanganan ketidakseimbangan kelas\n",
    "# rf_clf = RandomForestClassifier(class_weight='balanced', random_state=42)\n",
    "\n",
    "# # Melatih model pada data yang sudah dioversampling\n",
    "# rf_clf.fit(X_train_over, y_train_over)\n",
    "\n",
    "# # Membuat prediksi\n",
    "# y_pred_rf = rf_clf.predict(X_test)\n",
    "\n",
    "# # Evaluasi model\n",
    "# accuracy_rf = accuracy_score(y_test, y_pred_rf)\n",
    "# report_rf = classification_report(y_test, y_pred_rf)\n",
    "\n",
    "# print(f'RandomForest Accuracy: {accuracy_rf}')\n",
    "# print(f'RandomForest Classification Report:\\n{report_rf}')\n"
   ]
  },
  {
   "cell_type": "code",
   "execution_count": null,
   "metadata": {},
   "outputs": [],
   "source": [
    "# import optuna\n",
    "# from sklearn.ensemble import RandomForestClassifier\n",
    "# from sklearn.metrics import accuracy_score\n",
    "# from sklearn.model_selection import train_test_split\n",
    "\n",
    "# # Memisahkan variabel independen dan dependen\n",
    "# X = df.drop(columns=['churn'])\n",
    "# y = df['churn']\n",
    "\n",
    "# # Membagi data menjadi train dan tes\n",
    "# X_train, X_test, y_train, y_test = train_test_split(X, y, test_size=0.2, random_state=42)\n",
    "\n",
    "# # Fungsi objektif untuk keseluruhan pembelajaran model\n",
    "# def objective(trial):\n",
    "#     try:\n",
    "#         # Hyperparameter terbaik akan ditemukan dari sini\n",
    "#         param = {\n",
    "#             'n_estimators': trial.suggest_int('n_estimators', 50, 200),\n",
    "#             'max_depth': trial.suggest_int('max_depth', 5, 15),\n",
    "#             'min_samples_split': trial.suggest_int('min_samples_split', 2, 10),\n",
    "#             'min_samples_leaf': trial.suggest_int('min_samples_leaf', 2, 10),\n",
    "#             'max_features': trial.suggest_float('max_features', 0.5, 1.0),\n",
    "#             'bootstrap': trial.suggest_categorical('bootstrap', [True, False])\n",
    "#         }\n",
    "\n",
    "#         # Melatih model\n",
    "#         rf_clf = RandomForestClassifier(**param, random_state=42)\n",
    "#         rf_clf.fit(X_train, y_train)\n",
    "\n",
    "#         # Melakukan Prediksi\n",
    "#         preds = rf_clf.predict(X_test)\n",
    "        \n",
    "#         # Menghitung Akurasi\n",
    "#         accuracy = accuracy_score(y_test, preds)\n",
    "#         return 1.0 - accuracy  # Minimalkan 1 - akurasi karena Optuna mencari nilai minimum\n",
    "\n",
    "#     except Exception as e:\n",
    "#         print(e)\n",
    "#         return np.inf  # Mengembalikan nilai yang besar untuk menunjukkan kegagalan\n",
    "\n",
    "# # Memastikan objek pembelajaran oleh Optuna\n",
    "# study = optuna.create_study(direction='minimize')\n",
    "# study.optimize(objective, n_trials=100)\n",
    "\n",
    "# # Parameter Terbaik\n",
    "# best_params = study.best_params\n",
    "# print('Best parameters:', best_params)\n",
    "\n",
    "# # Melatih model dengan parameter terbaik\n",
    "# best_rf_clf = RandomForestClassifier(**best_params, random_state=42)\n",
    "# best_rf_clf.fit(X_train, y_train)\n",
    "\n",
    "# # Melakukan prediksi pada data uji\n",
    "# y_pred = best_rf_clf.predict(X_test)\n",
    "\n",
    "# # Evaluasi model\n",
    "# accuracy = accuracy_score(y_test, y_pred)\n",
    "# print(f'Accuracy: {accuracy}')\n"
   ]
  },
  {
   "cell_type": "code",
   "execution_count": null,
   "metadata": {},
   "outputs": [],
   "source": [
    "# # Membuat prediksi dengan model yang dioptimalkan\n",
    "# y_pred_optimized = randomized_search.predict(X_test)\n",
    "\n",
    "# # Evaluasi model\n",
    "# accuracy_optimized = accuracy_score(y_test, y_pred_optimized)\n",
    "# report_optimized = classification_report(y_test, y_pred_optimized)\n",
    "\n",
    "# print(f'Optimized RandomForest Accuracy: {accuracy_optimized}')\n",
    "# print(f'Optimized RandomForest Classification Report:\\n{report_optimized}')\n"
   ]
  },
  {
   "cell_type": "code",
   "execution_count": null,
   "metadata": {},
   "outputs": [],
   "source": [
    "\n",
    "submission['churn'] = y_pred\n",
    "submission.churn.value_counts()\n",
    "\n",
    "submission.to_csv(\"C:/IRIS COMPETITION/predict12.csv\", index=False)"
   ]
  },
  {
   "cell_type": "code",
   "execution_count": null,
   "metadata": {},
   "outputs": [],
   "source": [
    "print(submission.index)\n"
   ]
  }
 ],
 "metadata": {
  "kernelspec": {
   "display_name": "Python 3",
   "language": "python",
   "name": "python3"
  },
  "language_info": {
   "codemirror_mode": {
    "name": "ipython",
    "version": 3
   },
   "file_extension": ".py",
   "mimetype": "text/x-python",
   "name": "python",
   "nbconvert_exporter": "python",
   "pygments_lexer": "ipython3",
   "version": "3.11.0"
  }
 },
 "nbformat": 4,
 "nbformat_minor": 2
}
