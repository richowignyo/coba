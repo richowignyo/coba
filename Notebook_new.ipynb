{
 "cells": [
  {
   "cell_type": "markdown",
   "metadata": {},
   "source": [
    "# *IRIS.BARUBELAJAR | KAGGLE COMPETITION | CUSTOMER CHURN*"
   ]
  },
  {
   "cell_type": "markdown",
   "metadata": {},
   "source": [
    "## IMPORT LIBRARY"
   ]
  },
  {
   "cell_type": "code",
   "execution_count": 2,
   "metadata": {},
   "outputs": [],
   "source": [
    "import pandas as pd\n",
    "import matplotlib.pyplot as plt \n",
    "import numpy as np\n",
    "import seaborn as sns\n",
    "from sklearn.model_selection import train_test_split, GridSearchCV, cross_val_score\n",
    "from sklearn.experimental import enable_iterative_imputer\n",
    "from sklearn.impute import SimpleImputer, IterativeImputer\n",
    "from sklearn.preprocessing import StandardScaler, OneHotEncoder, LabelEncoder\n",
    "from sklearn.compose import ColumnTransformer\n",
    "from sklearn.pipeline import Pipeline\n",
    "from sklearn.linear_model import LogisticRegression\n",
    "from xgboost import XGBClassifier\n",
    "from catboost import CatBoostClassifier\n",
    "from lightgbm import LGBMClassifier\n",
    "from sklearn.tree import DecisionTreeClassifier\n",
    "from sklearn.ensemble import AdaBoostClassifier, RandomForestClassifier, ExtraTreesClassifier\n",
    "from sklearn.svm import SVC\n",
    "from sklearn.neighbors import KNeighborsClassifier\n",
    "from sklearn.metrics import accuracy_score, f1_score\n",
    "import optuna"
   ]
  },
  {
   "cell_type": "markdown",
   "metadata": {},
   "source": [
    "## IMPORT DATASET"
   ]
  },
  {
   "cell_type": "code",
   "execution_count": 3,
   "metadata": {},
   "outputs": [],
   "source": [
    "df_train = pd.read_csv('train.csv')\n",
    "df_test = pd.read_csv('test.csv')\n",
    "submission = pd.read_csv('sample_submission.csv')"
   ]
  },
  {
   "cell_type": "code",
   "execution_count": 4,
   "metadata": {},
   "outputs": [
    {
     "data": {
      "text/html": [
       "<div>\n",
       "<style scoped>\n",
       "    .dataframe tbody tr th:only-of-type {\n",
       "        vertical-align: middle;\n",
       "    }\n",
       "\n",
       "    .dataframe tbody tr th {\n",
       "        vertical-align: top;\n",
       "    }\n",
       "\n",
       "    .dataframe thead th {\n",
       "        text-align: right;\n",
       "    }\n",
       "</style>\n",
       "<table border=\"1\" class=\"dataframe\">\n",
       "  <thead>\n",
       "    <tr style=\"text-align: right;\">\n",
       "      <th></th>\n",
       "      <th>customer_id</th>\n",
       "      <th>credit_score</th>\n",
       "      <th>country</th>\n",
       "      <th>gender</th>\n",
       "      <th>age</th>\n",
       "      <th>tenure</th>\n",
       "      <th>balance</th>\n",
       "      <th>products_number</th>\n",
       "      <th>credit_card</th>\n",
       "      <th>active_member</th>\n",
       "      <th>estimated_salary</th>\n",
       "      <th>churn</th>\n",
       "    </tr>\n",
       "  </thead>\n",
       "  <tbody>\n",
       "    <tr>\n",
       "      <th>0</th>\n",
       "      <td>15687492</td>\n",
       "      <td>596</td>\n",
       "      <td>jabar</td>\n",
       "      <td>Male</td>\n",
       "      <td>32.0</td>\n",
       "      <td>3.0</td>\n",
       "      <td>150268487.1</td>\n",
       "      <td>2.0</td>\n",
       "      <td>0.0</td>\n",
       "      <td>0.0</td>\n",
       "      <td>6.493161e+07</td>\n",
       "      <td>0</td>\n",
       "    </tr>\n",
       "    <tr>\n",
       "      <th>1</th>\n",
       "      <td>15736963</td>\n",
       "      <td>623</td>\n",
       "      <td>Jawa Timur</td>\n",
       "      <td>Male</td>\n",
       "      <td>43.0</td>\n",
       "      <td>1.0</td>\n",
       "      <td>0.0</td>\n",
       "      <td>2.0</td>\n",
       "      <td>1.0</td>\n",
       "      <td>1.0</td>\n",
       "      <td>2.274471e+08</td>\n",
       "      <td>0</td>\n",
       "    </tr>\n",
       "    <tr>\n",
       "      <th>2</th>\n",
       "      <td>15721730</td>\n",
       "      <td>601</td>\n",
       "      <td>Jawa Tengah</td>\n",
       "      <td>Female</td>\n",
       "      <td>44.0</td>\n",
       "      <td>4.0</td>\n",
       "      <td>0.0</td>\n",
       "      <td>2.0</td>\n",
       "      <td>1.0</td>\n",
       "      <td>0.0</td>\n",
       "      <td>9.099373e+07</td>\n",
       "      <td>0</td>\n",
       "    </tr>\n",
       "    <tr>\n",
       "      <th>3</th>\n",
       "      <td>15762134</td>\n",
       "      <td>506</td>\n",
       "      <td>Jawa Barat</td>\n",
       "      <td>Male</td>\n",
       "      <td>59.0</td>\n",
       "      <td>8.0</td>\n",
       "      <td>185140916.0</td>\n",
       "      <td>2.0</td>\n",
       "      <td>1.0</td>\n",
       "      <td>1.0</td>\n",
       "      <td>2.652056e+08</td>\n",
       "      <td>0</td>\n",
       "    </tr>\n",
       "    <tr>\n",
       "      <th>4</th>\n",
       "      <td>15648898</td>\n",
       "      <td>560</td>\n",
       "      <td>Jawa Tengah</td>\n",
       "      <td>Female</td>\n",
       "      <td>27.0</td>\n",
       "      <td>NaN</td>\n",
       "      <td>194221253.6</td>\n",
       "      <td>1.0</td>\n",
       "      <td>1.0</td>\n",
       "      <td>1.0</td>\n",
       "      <td>1.781762e+08</td>\n",
       "      <td>0</td>\n",
       "    </tr>\n",
       "  </tbody>\n",
       "</table>\n",
       "</div>"
      ],
      "text/plain": [
       "   customer_id  credit_score      country  gender   age  tenure      balance  \\\n",
       "0     15687492           596        jabar    Male  32.0     3.0  150268487.1   \n",
       "1     15736963           623   Jawa Timur    Male  43.0     1.0          0.0   \n",
       "2     15721730           601  Jawa Tengah  Female  44.0     4.0          0.0   \n",
       "3     15762134           506   Jawa Barat    Male  59.0     8.0  185140916.0   \n",
       "4     15648898           560  Jawa Tengah  Female  27.0     NaN  194221253.6   \n",
       "\n",
       "   products_number  credit_card  active_member  estimated_salary  churn  \n",
       "0              2.0          0.0            0.0      6.493161e+07      0  \n",
       "1              2.0          1.0            1.0      2.274471e+08      0  \n",
       "2              2.0          1.0            0.0      9.099373e+07      0  \n",
       "3              2.0          1.0            1.0      2.652056e+08      0  \n",
       "4              1.0          1.0            1.0      1.781762e+08      0  "
      ]
     },
     "execution_count": 4,
     "metadata": {},
     "output_type": "execute_result"
    }
   ],
   "source": [
    "df_train.head()"
   ]
  },
  {
   "cell_type": "code",
   "execution_count": 5,
   "metadata": {},
   "outputs": [
    {
     "data": {
      "text/html": [
       "<div>\n",
       "<style scoped>\n",
       "    .dataframe tbody tr th:only-of-type {\n",
       "        vertical-align: middle;\n",
       "    }\n",
       "\n",
       "    .dataframe tbody tr th {\n",
       "        vertical-align: top;\n",
       "    }\n",
       "\n",
       "    .dataframe thead th {\n",
       "        text-align: right;\n",
       "    }\n",
       "</style>\n",
       "<table border=\"1\" class=\"dataframe\">\n",
       "  <thead>\n",
       "    <tr style=\"text-align: right;\">\n",
       "      <th></th>\n",
       "      <th>customer_id</th>\n",
       "      <th>credit_score</th>\n",
       "      <th>country</th>\n",
       "      <th>gender</th>\n",
       "      <th>age</th>\n",
       "      <th>tenure</th>\n",
       "      <th>balance</th>\n",
       "      <th>products_number</th>\n",
       "      <th>credit_card</th>\n",
       "      <th>active_member</th>\n",
       "      <th>estimated_salary</th>\n",
       "    </tr>\n",
       "  </thead>\n",
       "  <tbody>\n",
       "    <tr>\n",
       "      <th>0</th>\n",
       "      <td>15782993</td>\n",
       "      <td>624</td>\n",
       "      <td>Jawa Timur</td>\n",
       "      <td>Male</td>\n",
       "      <td>51</td>\n",
       "      <td>10</td>\n",
       "      <td>191743610.0</td>\n",
       "      <td>2</td>\n",
       "      <td>1</td>\n",
       "      <td>1</td>\n",
       "      <td>1.986174e+08</td>\n",
       "    </tr>\n",
       "    <tr>\n",
       "      <th>1</th>\n",
       "      <td>15640442</td>\n",
       "      <td>717</td>\n",
       "      <td>Jawa Timur</td>\n",
       "      <td>Male</td>\n",
       "      <td>31</td>\n",
       "      <td>4</td>\n",
       "      <td>201565523.7</td>\n",
       "      <td>1</td>\n",
       "      <td>0</td>\n",
       "      <td>0</td>\n",
       "      <td>6.398102e+07</td>\n",
       "    </tr>\n",
       "    <tr>\n",
       "      <th>2</th>\n",
       "      <td>15606003</td>\n",
       "      <td>566</td>\n",
       "      <td>Jawa Timur</td>\n",
       "      <td>Female</td>\n",
       "      <td>21</td>\n",
       "      <td>3</td>\n",
       "      <td>0.0</td>\n",
       "      <td>2</td>\n",
       "      <td>1</td>\n",
       "      <td>1</td>\n",
       "      <td>5.634882e+06</td>\n",
       "    </tr>\n",
       "    <tr>\n",
       "      <th>3</th>\n",
       "      <td>15672374</td>\n",
       "      <td>672</td>\n",
       "      <td>Jawa Timur</td>\n",
       "      <td>Male</td>\n",
       "      <td>52</td>\n",
       "      <td>8</td>\n",
       "      <td>264163135.8</td>\n",
       "      <td>1</td>\n",
       "      <td>0</td>\n",
       "      <td>0</td>\n",
       "      <td>8.764698e+07</td>\n",
       "    </tr>\n",
       "    <tr>\n",
       "      <th>4</th>\n",
       "      <td>15630725</td>\n",
       "      <td>649</td>\n",
       "      <td>Jawa Timur</td>\n",
       "      <td>Female</td>\n",
       "      <td>45</td>\n",
       "      <td>5</td>\n",
       "      <td>144173768.0</td>\n",
       "      <td>1</td>\n",
       "      <td>1</td>\n",
       "      <td>0</td>\n",
       "      <td>2.693794e+08</td>\n",
       "    </tr>\n",
       "  </tbody>\n",
       "</table>\n",
       "</div>"
      ],
      "text/plain": [
       "   customer_id  credit_score     country  gender  age  tenure      balance  \\\n",
       "0     15782993           624  Jawa Timur    Male   51      10  191743610.0   \n",
       "1     15640442           717  Jawa Timur    Male   31       4  201565523.7   \n",
       "2     15606003           566  Jawa Timur  Female   21       3          0.0   \n",
       "3     15672374           672  Jawa Timur    Male   52       8  264163135.8   \n",
       "4     15630725           649  Jawa Timur  Female   45       5  144173768.0   \n",
       "\n",
       "   products_number  credit_card  active_member  estimated_salary  \n",
       "0                2            1              1      1.986174e+08  \n",
       "1                1            0              0      6.398102e+07  \n",
       "2                2            1              1      5.634882e+06  \n",
       "3                1            0              0      8.764698e+07  \n",
       "4                1            1              0      2.693794e+08  "
      ]
     },
     "execution_count": 5,
     "metadata": {},
     "output_type": "execute_result"
    }
   ],
   "source": [
    "df_test.head()"
   ]
  },
  {
   "cell_type": "code",
   "execution_count": 6,
   "metadata": {},
   "outputs": [
    {
     "name": "stdout",
     "output_type": "stream",
     "text": [
      "<class 'pandas.core.frame.DataFrame'>\n",
      "RangeIndex: 7000 entries, 0 to 6999\n",
      "Data columns (total 12 columns):\n",
      " #   Column            Non-Null Count  Dtype  \n",
      "---  ------            --------------  -----  \n",
      " 0   customer_id       7000 non-null   int64  \n",
      " 1   credit_score      7000 non-null   int64  \n",
      " 2   country           6845 non-null   object \n",
      " 3   gender            7000 non-null   object \n",
      " 4   age               6759 non-null   float64\n",
      " 5   tenure            6712 non-null   float64\n",
      " 6   balance           6883 non-null   float64\n",
      " 7   products_number   6852 non-null   float64\n",
      " 8   credit_card       6841 non-null   float64\n",
      " 9   active_member     6863 non-null   float64\n",
      " 10  estimated_salary  6855 non-null   float64\n",
      " 11  churn             7000 non-null   int64  \n",
      "dtypes: float64(7), int64(3), object(2)\n",
      "memory usage: 656.4+ KB\n"
     ]
    }
   ],
   "source": [
    "df_train.info()"
   ]
  },
  {
   "cell_type": "code",
   "execution_count": 7,
   "metadata": {},
   "outputs": [
    {
     "name": "stdout",
     "output_type": "stream",
     "text": [
      "<class 'pandas.core.frame.DataFrame'>\n",
      "RangeIndex: 3000 entries, 0 to 2999\n",
      "Data columns (total 11 columns):\n",
      " #   Column            Non-Null Count  Dtype  \n",
      "---  ------            --------------  -----  \n",
      " 0   customer_id       3000 non-null   int64  \n",
      " 1   credit_score      3000 non-null   int64  \n",
      " 2   country           3000 non-null   object \n",
      " 3   gender            3000 non-null   object \n",
      " 4   age               3000 non-null   int64  \n",
      " 5   tenure            3000 non-null   int64  \n",
      " 6   balance           3000 non-null   float64\n",
      " 7   products_number   3000 non-null   int64  \n",
      " 8   credit_card       3000 non-null   int64  \n",
      " 9   active_member     3000 non-null   int64  \n",
      " 10  estimated_salary  3000 non-null   float64\n",
      "dtypes: float64(2), int64(7), object(2)\n",
      "memory usage: 257.9+ KB\n"
     ]
    }
   ],
   "source": [
    "df_test.info()"
   ]
  },
  {
   "cell_type": "code",
   "execution_count": 8,
   "metadata": {},
   "outputs": [
    {
     "data": {
      "text/plain": [
       "0    5590\n",
       "1    1410\n",
       "Name: churn, dtype: int64"
      ]
     },
     "execution_count": 8,
     "metadata": {},
     "output_type": "execute_result"
    }
   ],
   "source": [
    "df_train['churn'].value_counts()\n"
   ]
  },
  {
   "cell_type": "code",
   "execution_count": 9,
   "metadata": {},
   "outputs": [
    {
     "data": {
      "text/plain": [
       "Jawa Timur     2758\n",
       "Jawa Barat     1414\n",
       "Jawa Tengah    1336\n",
       "jatim           337\n",
       "jawatimur       329\n",
       "jawatengah      175\n",
       "jawabarat       174\n",
       "jabar           161\n",
       "jateng          161\n",
       "Name: country, dtype: int64"
      ]
     },
     "execution_count": 9,
     "metadata": {},
     "output_type": "execute_result"
    }
   ],
   "source": [
    "df_train['country'].value_counts()"
   ]
  },
  {
   "cell_type": "markdown",
   "metadata": {},
   "source": [
    "## DATA PREPROCESSING"
   ]
  },
  {
   "cell_type": "markdown",
   "metadata": {},
   "source": [
    "### DROP FEATURES CUSTOMER_ID"
   ]
  },
  {
   "cell_type": "code",
   "execution_count": 10,
   "metadata": {},
   "outputs": [],
   "source": [
    "df_train = df_train.drop(['customer_id'], axis=1)\n",
    "df_test = df_test.drop(['customer_id'], axis = 1)"
   ]
  },
  {
   "cell_type": "markdown",
   "metadata": {},
   "source": [
    "## CEK TIPE DATA"
   ]
  },
  {
   "cell_type": "code",
   "execution_count": 11,
   "metadata": {},
   "outputs": [
    {
     "data": {
      "text/plain": [
       "credit_score          int64\n",
       "country              object\n",
       "gender               object\n",
       "age                 float64\n",
       "tenure              float64\n",
       "balance             float64\n",
       "products_number     float64\n",
       "credit_card         float64\n",
       "active_member       float64\n",
       "estimated_salary    float64\n",
       "churn                 int64\n",
       "dtype: object"
      ]
     },
     "execution_count": 11,
     "metadata": {},
     "output_type": "execute_result"
    }
   ],
   "source": [
    "df_train.dtypes"
   ]
  },
  {
   "cell_type": "markdown",
   "metadata": {},
   "source": [
    "### MISSING VALUE"
   ]
  },
  {
   "cell_type": "markdown",
   "metadata": {},
   "source": [
    "#### country\n"
   ]
  },
  {
   "cell_type": "code",
   "execution_count": 12,
   "metadata": {},
   "outputs": [
    {
     "name": "stdout",
     "output_type": "stream",
     "text": [
      "['jabar' 'Jawa Timur' 'Jawa Tengah' 'Jawa Barat' 'jateng' 'jawabarat'\n",
      " 'jawatimur' 'jatim' 'jawatengah' nan]\n"
     ]
    }
   ],
   "source": [
    "print(df_train['country'].unique())"
   ]
  },
  {
   "cell_type": "code",
   "execution_count": 13,
   "metadata": {},
   "outputs": [
    {
     "data": {
      "text/plain": [
       "0             Jabar\n",
       "1        Jawa timur\n",
       "2       Jawa tengah\n",
       "3        Jawa barat\n",
       "4       Jawa tengah\n",
       "           ...     \n",
       "6995     Jawa timur\n",
       "6996      Jawabarat\n",
       "6997      Jawatimur\n",
       "6998     Jawa timur\n",
       "6999    Jawa tengah\n",
       "Name: country, Length: 7000, dtype: object"
      ]
     },
     "execution_count": 13,
     "metadata": {},
     "output_type": "execute_result"
    }
   ],
   "source": [
    "# Memastikan seluruh data tertulis dalam kapital\n",
    "df_train['country'] = df_train['country'].str.capitalize()\n",
    "df_train[\"country\"]"
   ]
  },
  {
   "cell_type": "code",
   "execution_count": 14,
   "metadata": {},
   "outputs": [
    {
     "name": "stdout",
     "output_type": "stream",
     "text": [
      "['Jabar' 'Jawa timur' 'Jawa tengah' 'Jawa barat' 'Jateng' 'Jawabarat'\n",
      " 'Jawatimur' 'Jatim' 'Jawatengah' nan]\n"
     ]
    }
   ],
   "source": [
    "print(df_train['country'].unique())"
   ]
  },
  {
   "cell_type": "code",
   "execution_count": 15,
   "metadata": {},
   "outputs": [
    {
     "name": "stdout",
     "output_type": "stream",
     "text": [
      "['Jawa Barat' 'Jawa Timur' 'Jawa Tengah' nan]\n"
     ]
    }
   ],
   "source": [
    "\n",
    "\n",
    "# Daftar pemetaan untuk penggantian\n",
    "mapping = {'Jabar': 'Jawa Barat', 'Jatim': 'Jawa Timur', 'Jateng': 'Jawa Tengah', 'Jawa barat': 'Jawa Barat', 'Jawa timur':'Jawa Timur', 'Jawa tengah': 'Jawa Tengah', 'Jawabarat' : \"Jawa Barat\", \"Jawatengah\" : \"Jawa Tengah\", \"Jawatimur\" : \"Jawa Timur\"}\n",
    "\n",
    "# Melakukan penggantian nilai\n",
    "df_train['country'] = df_train['country'].replace(mapping)\n",
    "\n",
    "# Tampilkan hasil\n",
    "print(df_train['country'].unique())\n"
   ]
  },
  {
   "cell_type": "markdown",
   "metadata": {},
   "source": [
    "## gender"
   ]
  },
  {
   "cell_type": "code",
   "execution_count": 16,
   "metadata": {},
   "outputs": [
    {
     "name": "stdout",
     "output_type": "stream",
     "text": [
      "['Male' 'Female']\n"
     ]
    }
   ],
   "source": [
    "print(df_train['gender'].unique())"
   ]
  },
  {
   "cell_type": "code",
   "execution_count": 17,
   "metadata": {},
   "outputs": [
    {
     "name": "stdout",
     "output_type": "stream",
     "text": [
      "credit_score          0\n",
      "country             155\n",
      "gender                0\n",
      "age                 241\n",
      "tenure              288\n",
      "balance             117\n",
      "products_number     148\n",
      "credit_card         159\n",
      "active_member       137\n",
      "estimated_salary    145\n",
      "churn                 0\n",
      "dtype: int64\n"
     ]
    }
   ],
   "source": [
    "print(df_train.isna().sum())"
   ]
  },
  {
   "cell_type": "code",
   "execution_count": 18,
   "metadata": {},
   "outputs": [
    {
     "data": {
      "text/plain": [
       "7000"
      ]
     },
     "execution_count": 18,
     "metadata": {},
     "output_type": "execute_result"
    }
   ],
   "source": [
    "# Jika y merupakan DataFrame\n",
    "jumlah_baris_y = df_train['churn'].shape[0]\n",
    "jumlah_baris_y"
   ]
  },
  {
   "cell_type": "markdown",
   "metadata": {},
   "source": [
    "### MEMISAHKAN DATA NUMERIK DAN KATEGORIK"
   ]
  },
  {
   "cell_type": "code",
   "execution_count": null,
   "metadata": {},
   "outputs": [],
   "source": []
  },
  {
   "cell_type": "markdown",
   "metadata": {},
   "source": [
    "### Tabulasi Silang"
   ]
  },
  {
   "cell_type": "code",
   "execution_count": 19,
   "metadata": {},
   "outputs": [
    {
     "name": "stdout",
     "output_type": "stream",
     "text": [
      "country  Jawa Barat  Jawa Tengah  Jawa Timur\n",
      "churn                                       \n",
      "0              1191         1400        2870\n",
      "1               558          272         554\n",
      "country  Jawa Barat  Jawa Tengah  Jawa Timur\n",
      "churn                                       \n",
      "0          0.218092     0.256363    0.525545\n",
      "1          0.403179     0.196532    0.400289\n"
     ]
    }
   ],
   "source": [
    "print(pd.crosstab(df_train.churn, df_train.country))\n",
    "print(pd.crosstab(df_train.churn, df_train.country, normalize=\"index\"))"
   ]
  },
  {
   "cell_type": "code",
   "execution_count": 20,
   "metadata": {},
   "outputs": [
    {
     "name": "stdout",
     "output_type": "stream",
     "text": [
      "gender  Female  Male\n",
      "churn               \n",
      "0         2436  3154\n",
      "1          790   620\n",
      "gender    Female      Male\n",
      "churn                     \n",
      "0       0.435778  0.564222\n",
      "1       0.560284  0.439716\n"
     ]
    }
   ],
   "source": [
    "print(pd.crosstab(df_train.churn, df_train.gender))\n",
    "print(pd.crosstab(df_train.churn, df_train.gender, normalize=\"index\"))"
   ]
  },
  {
   "cell_type": "code",
   "execution_count": 21,
   "metadata": {},
   "outputs": [
    {
     "name": "stdout",
     "output_type": "stream",
     "text": [
      "Length of X_test before preprocessing: 3000\n"
     ]
    }
   ],
   "source": [
    "\n",
    "\n",
    "# Memisahkan variabel independen dan dependen\n",
    "X = df_train.drop(['churn'], axis=1)\n",
    "y = df_train['churn']\n",
    "\n",
    "\n",
    "# Membagi data menjadi train dan tes\n",
    "X_train, X_test, y_train, y_test = train_test_split(X, y, test_size=3000/7000, stratify=y, random_state=42)\n",
    "\n",
    "# Menampilkan panjang X_test sebelum preprocessing\n",
    "print(\"Length of X_test before preprocessing:\", len(X_test))\n",
    "\n",
    "\n"
   ]
  },
  {
   "cell_type": "code",
   "execution_count": 22,
   "metadata": {},
   "outputs": [
    {
     "data": {
      "text/plain": [
       "4000"
      ]
     },
     "execution_count": 22,
     "metadata": {},
     "output_type": "execute_result"
    }
   ],
   "source": [
    "y_train.shape[0]"
   ]
  },
  {
   "cell_type": "markdown",
   "metadata": {},
   "source": [
    "### PREPROCESOR"
   ]
  },
  {
   "cell_type": "code",
   "execution_count": 23,
   "metadata": {},
   "outputs": [],
   "source": [
    "\n",
    "# Definisi preprocessor\n",
    "numeric_features = ['credit_score', 'age', 'tenure', 'balance', 'products_number', 'estimated_salary']\n",
    "binary_features = ['credit_card', 'active_member']\n",
    "categorical_features = ['country', 'gender']\n",
    "\n",
    "numeric_transformer = Pipeline(steps=[\n",
    "    ('imputer', IterativeImputer(max_iter=10, random_state=0)),\n",
    "    ('scaler', StandardScaler())\n",
    "])\n",
    "\n",
    "binary_transformer = Pipeline(steps=[\n",
    "    ('imputer', SimpleImputer(strategy='most_frequent'))\n",
    "])\n",
    "\n",
    "categorical_transformer = Pipeline(steps=[\n",
    "    ('imputer', SimpleImputer(strategy='most_frequent')),\n",
    "    ('onehot', OneHotEncoder(handle_unknown='ignore'))\n",
    "])\n",
    "\n",
    "preprocessor = ColumnTransformer(\n",
    "    transformers=[\n",
    "        ('num', numeric_transformer, numeric_features),\n",
    "        ('bin', binary_transformer, binary_features),\n",
    "        ('cat', categorical_transformer, categorical_features)\n",
    "    ])\n",
    "\n"
   ]
  },
  {
   "cell_type": "code",
   "execution_count": 24,
   "metadata": {},
   "outputs": [
    {
     "name": "stderr",
     "output_type": "stream",
     "text": [
      "[I 2024-02-05 13:23:48,513] A new study created in memory with name: no-name-351754cd-4c11-44ff-8754-d2124c2136c1\n"
     ]
    },
    {
     "name": "stderr",
     "output_type": "stream",
     "text": [
      "[I 2024-02-05 13:23:57,119] Trial 0 finished with value: 0.5812495546247222 and parameters: {'classifier__n_estimators': 183, 'classifier__max_depth': 11, 'classifier__min_samples_split': 5, 'classifier__min_samples_leaf': 7, 'classifier__max_features': 0.7108837119740845, 'classifier__bootstrap': True}. Best is trial 0 with value: 0.5812495546247222.\n",
      "[I 2024-02-05 13:24:02,096] Trial 1 finished with value: 0.5514319330352757 and parameters: {'classifier__n_estimators': 139, 'classifier__max_depth': 6, 'classifier__min_samples_split': 2, 'classifier__min_samples_leaf': 9, 'classifier__max_features': 0.7157864490127688, 'classifier__bootstrap': True}. Best is trial 0 with value: 0.5812495546247222.\n",
      "[I 2024-02-05 13:24:10,001] Trial 2 finished with value: 0.5778567208040892 and parameters: {'classifier__n_estimators': 185, 'classifier__max_depth': 10, 'classifier__min_samples_split': 3, 'classifier__min_samples_leaf': 9, 'classifier__max_features': 0.6988451192614761, 'classifier__bootstrap': True}. Best is trial 0 with value: 0.5812495546247222.\n",
      "[I 2024-02-05 13:24:13,078] Trial 3 finished with value: 0.5282747134332109 and parameters: {'classifier__n_estimators': 100, 'classifier__max_depth': 5, 'classifier__min_samples_split': 8, 'classifier__min_samples_leaf': 8, 'classifier__max_features': 0.7345564142568624, 'classifier__bootstrap': False}. Best is trial 0 with value: 0.5812495546247222.\n",
      "[I 2024-02-05 13:24:15,077] Trial 4 finished with value: 0.5828446242908519 and parameters: {'classifier__n_estimators': 50, 'classifier__max_depth': 11, 'classifier__min_samples_split': 4, 'classifier__min_samples_leaf': 4, 'classifier__max_features': 0.54919659419317, 'classifier__bootstrap': True}. Best is trial 4 with value: 0.5828446242908519.\n",
      "[I 2024-02-05 13:24:22,409] Trial 5 finished with value: 0.576830232106696 and parameters: {'classifier__n_estimators': 145, 'classifier__max_depth': 11, 'classifier__min_samples_split': 6, 'classifier__min_samples_leaf': 6, 'classifier__max_features': 0.8110970942304897, 'classifier__bootstrap': False}. Best is trial 4 with value: 0.5828446242908519.\n",
      "[I 2024-02-05 13:24:26,215] Trial 6 finished with value: 0.5759348696788769 and parameters: {'classifier__n_estimators': 79, 'classifier__max_depth': 14, 'classifier__min_samples_split': 9, 'classifier__min_samples_leaf': 9, 'classifier__max_features': 0.9063896634066343, 'classifier__bootstrap': True}. Best is trial 4 with value: 0.5828446242908519.\n",
      "[I 2024-02-05 13:24:33,897] Trial 7 finished with value: 0.548868648537699 and parameters: {'classifier__n_estimators': 140, 'classifier__max_depth': 9, 'classifier__min_samples_split': 5, 'classifier__min_samples_leaf': 2, 'classifier__max_features': 0.9259758806643781, 'classifier__bootstrap': False}. Best is trial 4 with value: 0.5828446242908519.\n",
      "[I 2024-02-05 13:24:37,447] Trial 8 finished with value: 0.5240639764537832 and parameters: {'classifier__n_estimators': 98, 'classifier__max_depth': 5, 'classifier__min_samples_split': 2, 'classifier__min_samples_leaf': 9, 'classifier__max_features': 0.9647450192050055, 'classifier__bootstrap': False}. Best is trial 4 with value: 0.5828446242908519.\n",
      "[I 2024-02-05 13:24:42,763] Trial 9 finished with value: 0.5262313419970324 and parameters: {'classifier__n_estimators': 190, 'classifier__max_depth': 5, 'classifier__min_samples_split': 3, 'classifier__min_samples_leaf': 4, 'classifier__max_features': 0.6944190413676262, 'classifier__bootstrap': False}. Best is trial 4 with value: 0.5828446242908519.\n",
      "[I 2024-02-05 13:24:44,790] Trial 10 finished with value: 0.5734934210627395 and parameters: {'classifier__n_estimators': 54, 'classifier__max_depth': 15, 'classifier__min_samples_split': 7, 'classifier__min_samples_leaf': 4, 'classifier__max_features': 0.5322213337952751, 'classifier__bootstrap': True}. Best is trial 4 with value: 0.5828446242908519.\n",
      "[I 2024-02-05 13:24:50,229] Trial 11 finished with value: 0.5758684081043299 and parameters: {'classifier__n_estimators': 169, 'classifier__max_depth': 12, 'classifier__min_samples_split': 5, 'classifier__min_samples_leaf': 6, 'classifier__max_features': 0.5279140143096986, 'classifier__bootstrap': True}. Best is trial 4 with value: 0.5828446242908519.\n",
      "[I 2024-02-05 13:24:53,929] Trial 12 finished with value: 0.5726871022907762 and parameters: {'classifier__n_estimators': 113, 'classifier__max_depth': 8, 'classifier__min_samples_split': 4, 'classifier__min_samples_leaf': 4, 'classifier__max_features': 0.6064928638397403, 'classifier__bootstrap': True}. Best is trial 4 with value: 0.5828446242908519.\n",
      "[I 2024-02-05 13:24:56,596] Trial 13 finished with value: 0.580924431826544 and parameters: {'classifier__n_estimators': 65, 'classifier__max_depth': 13, 'classifier__min_samples_split': 6, 'classifier__min_samples_leaf': 7, 'classifier__max_features': 0.6206591481610189, 'classifier__bootstrap': True}. Best is trial 4 with value: 0.5828446242908519.\n",
      "[I 2024-02-05 13:25:03,460] Trial 14 finished with value: 0.5812726260397885 and parameters: {'classifier__n_estimators': 164, 'classifier__max_depth': 8, 'classifier__min_samples_split': 4, 'classifier__min_samples_leaf': 2, 'classifier__max_features': 0.8427833896029917, 'classifier__bootstrap': True}. Best is trial 4 with value: 0.5828446242908519.\n",
      "[I 2024-02-05 13:25:10,353] Trial 15 finished with value: 0.5744889619065289 and parameters: {'classifier__n_estimators': 165, 'classifier__max_depth': 8, 'classifier__min_samples_split': 4, 'classifier__min_samples_leaf': 2, 'classifier__max_features': 0.8243358754924157, 'classifier__bootstrap': True}. Best is trial 4 with value: 0.5828446242908519.\n",
      "[I 2024-02-05 13:25:15,148] Trial 16 finished with value: 0.5645921808409504 and parameters: {'classifier__n_estimators': 125, 'classifier__max_depth': 7, 'classifier__min_samples_split': 4, 'classifier__min_samples_leaf': 3, 'classifier__max_features': 0.8277500919494686, 'classifier__bootstrap': True}. Best is trial 4 with value: 0.5828446242908519.\n",
      "[I 2024-02-05 13:25:21,034] Trial 17 finished with value: 0.5745388933796192 and parameters: {'classifier__n_estimators': 160, 'classifier__max_depth': 9, 'classifier__min_samples_split': 10, 'classifier__min_samples_leaf': 5, 'classifier__max_features': 0.6264896631905671, 'classifier__bootstrap': True}. Best is trial 4 with value: 0.5828446242908519.\n",
      "[I 2024-02-05 13:25:25,117] Trial 18 finished with value: 0.5804206284084641 and parameters: {'classifier__n_estimators': 79, 'classifier__max_depth': 10, 'classifier__min_samples_split': 3, 'classifier__min_samples_leaf': 3, 'classifier__max_features': 0.8746102813664324, 'classifier__bootstrap': True}. Best is trial 4 with value: 0.5828446242908519.\n",
      "[I 2024-02-05 13:25:31,047] Trial 19 finished with value: 0.5841636580633679 and parameters: {'classifier__n_estimators': 121, 'classifier__max_depth': 12, 'classifier__min_samples_split': 7, 'classifier__min_samples_leaf': 3, 'classifier__max_features': 0.7742770107047511, 'classifier__bootstrap': True}. Best is trial 19 with value: 0.5841636580633679.\n",
      "[I 2024-02-05 13:25:35,172] Trial 20 finished with value: 0.5812510095615606 and parameters: {'classifier__n_estimators': 86, 'classifier__max_depth': 13, 'classifier__min_samples_split': 7, 'classifier__min_samples_leaf': 5, 'classifier__max_features': 0.7755667086875604, 'classifier__bootstrap': True}. Best is trial 19 with value: 0.5841636580633679.\n",
      "[I 2024-02-05 13:25:37,783] Trial 21 finished with value: 0.5822431504112713 and parameters: {'classifier__n_estimators': 50, 'classifier__max_depth': 12, 'classifier__min_samples_split': 6, 'classifier__min_samples_leaf': 3, 'classifier__max_features': 0.7769709714043035, 'classifier__bootstrap': True}. Best is trial 19 with value: 0.5841636580633679.\n",
      "[I 2024-02-05 13:25:40,424] Trial 22 finished with value: 0.5814408963903841 and parameters: {'classifier__n_estimators': 51, 'classifier__max_depth': 12, 'classifier__min_samples_split': 7, 'classifier__min_samples_leaf': 3, 'classifier__max_features': 0.7801603894365985, 'classifier__bootstrap': True}. Best is trial 19 with value: 0.5841636580633679.\n",
      "[I 2024-02-05 13:25:43,348] Trial 23 finished with value: 0.581722674327496 and parameters: {'classifier__n_estimators': 68, 'classifier__max_depth': 12, 'classifier__min_samples_split': 8, 'classifier__min_samples_leaf': 3, 'classifier__max_features': 0.6555134272539684, 'classifier__bootstrap': True}. Best is trial 19 with value: 0.5841636580633679.\n",
      "[I 2024-02-05 13:25:45,688] Trial 24 finished with value: 0.5795247427390151 and parameters: {'classifier__n_estimators': 62, 'classifier__max_depth': 11, 'classifier__min_samples_split': 8, 'classifier__min_samples_leaf': 5, 'classifier__max_features': 0.5718687115277434, 'classifier__bootstrap': True}. Best is trial 19 with value: 0.5841636580633679.\n",
      "[I 2024-02-05 13:25:50,637] Trial 25 finished with value: 0.581401087987016 and parameters: {'classifier__n_estimators': 107, 'classifier__max_depth': 13, 'classifier__min_samples_split': 6, 'classifier__min_samples_leaf': 4, 'classifier__max_features': 0.7651137620993265, 'classifier__bootstrap': True}. Best is trial 19 with value: 0.5841636580633679.\n",
      "[I 2024-02-05 13:25:54,921] Trial 26 finished with value: 0.5654753709668354 and parameters: {'classifier__n_estimators': 91, 'classifier__max_depth': 14, 'classifier__min_samples_split': 7, 'classifier__min_samples_leaf': 3, 'classifier__max_features': 0.6570855869417203, 'classifier__bootstrap': False}. Best is trial 19 with value: 0.5841636580633679.\n",
      "[I 2024-02-05 13:25:57,819] Trial 27 finished with value: 0.5901694717143859 and parameters: {'classifier__n_estimators': 50, 'classifier__max_depth': 11, 'classifier__min_samples_split': 9, 'classifier__min_samples_leaf': 2, 'classifier__max_features': 0.8666673911721933, 'classifier__bootstrap': True}. Best is trial 27 with value: 0.5901694717143859.\n",
      "[I 2024-02-05 13:26:04,735] Trial 28 finished with value: 0.584787329086818 and parameters: {'classifier__n_estimators': 122, 'classifier__max_depth': 11, 'classifier__min_samples_split': 10, 'classifier__min_samples_leaf': 2, 'classifier__max_features': 0.968140236659619, 'classifier__bootstrap': True}. Best is trial 27 with value: 0.5901694717143859.\n",
      "[I 2024-02-05 13:26:11,869] Trial 29 finished with value: 0.5839412265013267 and parameters: {'classifier__n_estimators': 124, 'classifier__max_depth': 11, 'classifier__min_samples_split': 10, 'classifier__min_samples_leaf': 2, 'classifier__max_features': 0.9976187021349576, 'classifier__bootstrap': True}. Best is trial 27 with value: 0.5901694717143859.\n",
      "[I 2024-02-05 13:26:18,467] Trial 30 finished with value: 0.574350959925457 and parameters: {'classifier__n_estimators': 125, 'classifier__max_depth': 9, 'classifier__min_samples_split': 9, 'classifier__min_samples_leaf': 2, 'classifier__max_features': 0.9342628200333124, 'classifier__bootstrap': True}. Best is trial 27 with value: 0.5901694717143859.\n",
      "[I 2024-02-05 13:26:25,305] Trial 31 finished with value: 0.5885995354512723 and parameters: {'classifier__n_estimators': 121, 'classifier__max_depth': 11, 'classifier__min_samples_split': 10, 'classifier__min_samples_leaf': 2, 'classifier__max_features': 0.9935592236143878, 'classifier__bootstrap': True}. Best is trial 27 with value: 0.5901694717143859.\n",
      "[I 2024-02-05 13:26:31,441] Trial 32 finished with value: 0.5803393512512087 and parameters: {'classifier__n_estimators': 112, 'classifier__max_depth': 10, 'classifier__min_samples_split': 9, 'classifier__min_samples_leaf': 2, 'classifier__max_features': 0.9983391452575481, 'classifier__bootstrap': True}. Best is trial 27 with value: 0.5901694717143859.\n",
      "[I 2024-02-05 13:26:38,374] Trial 33 finished with value: 0.5836808344634943 and parameters: {'classifier__n_estimators': 135, 'classifier__max_depth': 10, 'classifier__min_samples_split': 10, 'classifier__min_samples_leaf': 2, 'classifier__max_features': 0.8834020812317378, 'classifier__bootstrap': True}. Best is trial 27 with value: 0.5901694717143859.\n",
      "[I 2024-02-05 13:26:46,996] Trial 34 finished with value: 0.5811720683203573 and parameters: {'classifier__n_estimators': 155, 'classifier__max_depth': 12, 'classifier__min_samples_split': 9, 'classifier__min_samples_leaf': 3, 'classifier__max_features': 0.9588993969223382, 'classifier__bootstrap': True}. Best is trial 27 with value: 0.5901694717143859.\n",
      "[I 2024-02-05 13:26:55,876] Trial 35 finished with value: 0.5852666220311344 and parameters: {'classifier__n_estimators': 177, 'classifier__max_depth': 10, 'classifier__min_samples_split': 10, 'classifier__min_samples_leaf': 2, 'classifier__max_features': 0.8642257389362697, 'classifier__bootstrap': True}. Best is trial 27 with value: 0.5901694717143859.\n",
      "[I 2024-02-05 13:27:05,321] Trial 36 finished with value: 0.5831117301911106 and parameters: {'classifier__n_estimators': 181, 'classifier__max_depth': 10, 'classifier__min_samples_split': 10, 'classifier__min_samples_leaf': 2, 'classifier__max_features': 0.8599991060222216, 'classifier__bootstrap': True}. Best is trial 27 with value: 0.5901694717143859.\n",
      "[I 2024-02-05 13:27:16,622] Trial 37 finished with value: 0.5563199956241489 and parameters: {'classifier__n_estimators': 198, 'classifier__max_depth': 11, 'classifier__min_samples_split': 10, 'classifier__min_samples_leaf': 8, 'classifier__max_features': 0.9641713313583664, 'classifier__bootstrap': False}. Best is trial 27 with value: 0.5901694717143859.\n",
      "[I 2024-02-05 13:27:23,563] Trial 38 finished with value: 0.5742141213738349 and parameters: {'classifier__n_estimators': 134, 'classifier__max_depth': 9, 'classifier__min_samples_split': 9, 'classifier__min_samples_leaf': 2, 'classifier__max_features': 0.8989354545839141, 'classifier__bootstrap': True}. Best is trial 27 with value: 0.5901694717143859.\n",
      "[I 2024-02-05 13:27:35,273] Trial 39 finished with value: 0.5563424506934884 and parameters: {'classifier__n_estimators': 174, 'classifier__max_depth': 11, 'classifier__min_samples_split': 8, 'classifier__min_samples_leaf': 4, 'classifier__max_features': 0.9255391389452056, 'classifier__bootstrap': False}. Best is trial 27 with value: 0.5901694717143859.\n",
      "[I 2024-02-05 13:27:54,455] Trial 40 finished with value: 0.5778441119828557 and parameters: {'classifier__n_estimators': 151, 'classifier__max_depth': 10, 'classifier__min_samples_split': 10, 'classifier__min_samples_leaf': 10, 'classifier__max_features': 0.946770697713947, 'classifier__bootstrap': True}. Best is trial 27 with value: 0.5901694717143859.\n",
      "[I 2024-02-05 13:28:09,239] Trial 41 finished with value: 0.5841417340196875 and parameters: {'classifier__n_estimators': 117, 'classifier__max_depth': 11, 'classifier__min_samples_split': 9, 'classifier__min_samples_leaf': 3, 'classifier__max_features': 0.7428680777417151, 'classifier__bootstrap': True}. Best is trial 27 with value: 0.5901694717143859.\n",
      "[I 2024-02-05 13:28:22,740] Trial 42 finished with value: 0.5869178262599323 and parameters: {'classifier__n_estimators': 100, 'classifier__max_depth': 13, 'classifier__min_samples_split': 10, 'classifier__min_samples_leaf': 2, 'classifier__max_features': 0.8007117677782951, 'classifier__bootstrap': True}. Best is trial 27 with value: 0.5901694717143859.\n",
      "[I 2024-02-05 13:28:38,601] Trial 43 finished with value: 0.5898823370476453 and parameters: {'classifier__n_estimators': 104, 'classifier__max_depth': 14, 'classifier__min_samples_split': 10, 'classifier__min_samples_leaf': 2, 'classifier__max_features': 0.8051611176423267, 'classifier__bootstrap': True}. Best is trial 27 with value: 0.5901694717143859.\n",
      "[I 2024-02-05 13:28:55,123] Trial 44 finished with value: 0.5810936251070896 and parameters: {'classifier__n_estimators': 104, 'classifier__max_depth': 15, 'classifier__min_samples_split': 9, 'classifier__min_samples_leaf': 2, 'classifier__max_features': 0.8033526859561411, 'classifier__bootstrap': True}. Best is trial 27 with value: 0.5901694717143859.\n",
      "[I 2024-02-05 13:29:08,853] Trial 45 finished with value: 0.5791935477209774 and parameters: {'classifier__n_estimators': 94, 'classifier__max_depth': 14, 'classifier__min_samples_split': 10, 'classifier__min_samples_leaf': 2, 'classifier__max_features': 0.7130771596832323, 'classifier__bootstrap': True}. Best is trial 27 with value: 0.5901694717143859.\n",
      "[I 2024-02-05 13:29:22,453] Trial 46 finished with value: 0.5634511815783572 and parameters: {'classifier__n_estimators': 80, 'classifier__max_depth': 13, 'classifier__min_samples_split': 8, 'classifier__min_samples_leaf': 3, 'classifier__max_features': 0.8064953300572846, 'classifier__bootstrap': False}. Best is trial 27 with value: 0.5901694717143859.\n",
      "[I 2024-02-05 13:29:45,161] Trial 47 finished with value: 0.5822026348862898 and parameters: {'classifier__n_estimators': 144, 'classifier__max_depth': 14, 'classifier__min_samples_split': 9, 'classifier__min_samples_leaf': 7, 'classifier__max_features': 0.8510778954010922, 'classifier__bootstrap': True}. Best is trial 27 with value: 0.5901694717143859.\n",
      "[I 2024-02-05 13:30:03,357] Trial 48 finished with value: 0.5820373106525083 and parameters: {'classifier__n_estimators': 106, 'classifier__max_depth': 15, 'classifier__min_samples_split': 10, 'classifier__min_samples_leaf': 2, 'classifier__max_features': 0.8921158120639757, 'classifier__bootstrap': True}. Best is trial 27 with value: 0.5901694717143859.\n",
      "[I 2024-02-05 13:30:22,407] Trial 49 finished with value: 0.5883483107359582 and parameters: {'classifier__n_estimators': 132, 'classifier__max_depth': 13, 'classifier__min_samples_split': 9, 'classifier__min_samples_leaf': 2, 'classifier__max_features': 0.7270539919926573, 'classifier__bootstrap': True}. Best is trial 27 with value: 0.5901694717143859.\n",
      "[I 2024-02-05 13:30:42,719] Trial 50 finished with value: 0.57936937176039 and parameters: {'classifier__n_estimators': 135, 'classifier__max_depth': 13, 'classifier__min_samples_split': 8, 'classifier__min_samples_leaf': 4, 'classifier__max_features': 0.7311647769520699, 'classifier__bootstrap': False}. Best is trial 27 with value: 0.5901694717143859.\n",
      "[I 2024-02-05 13:30:55,850] Trial 51 finished with value: 0.5789052836855807 and parameters: {'classifier__n_estimators': 98, 'classifier__max_depth': 14, 'classifier__min_samples_split': 9, 'classifier__min_samples_leaf': 2, 'classifier__max_features': 0.6890795191125023, 'classifier__bootstrap': True}. Best is trial 27 with value: 0.5901694717143859.\n",
      "[I 2024-02-05 13:31:17,470] Trial 52 finished with value: 0.586114671005786 and parameters: {'classifier__n_estimators': 129, 'classifier__max_depth': 13, 'classifier__min_samples_split': 10, 'classifier__min_samples_leaf': 2, 'classifier__max_features': 0.8681322597934417, 'classifier__bootstrap': True}. Best is trial 27 with value: 0.5901694717143859.\n",
      "[I 2024-02-05 13:31:36,865] Trial 53 finished with value: 0.5854583390520481 and parameters: {'classifier__n_estimators': 129, 'classifier__max_depth': 13, 'classifier__min_samples_split': 9, 'classifier__min_samples_leaf': 3, 'classifier__max_features': 0.8332897145925482, 'classifier__bootstrap': True}. Best is trial 27 with value: 0.5901694717143859.\n",
      "[I 2024-02-05 13:31:54,797] Trial 54 finished with value: 0.5754765419282963 and parameters: {'classifier__n_estimators': 114, 'classifier__max_depth': 15, 'classifier__min_samples_split': 10, 'classifier__min_samples_leaf': 2, 'classifier__max_features': 0.801548848594085, 'classifier__bootstrap': True}. Best is trial 27 with value: 0.5901694717143859.\n",
      "[I 2024-02-05 13:32:17,944] Trial 55 finished with value: 0.5917443302543338 and parameters: {'classifier__n_estimators': 142, 'classifier__max_depth': 13, 'classifier__min_samples_split': 9, 'classifier__min_samples_leaf': 3, 'classifier__max_features': 0.9148459491444838, 'classifier__bootstrap': True}. Best is trial 55 with value: 0.5917443302543338.\n",
      "[I 2024-02-05 13:32:41,938] Trial 56 finished with value: 0.5885606462722045 and parameters: {'classifier__n_estimators': 146, 'classifier__max_depth': 14, 'classifier__min_samples_split': 9, 'classifier__min_samples_leaf': 3, 'classifier__max_features': 0.9065851457726147, 'classifier__bootstrap': True}. Best is trial 55 with value: 0.5917443302543338.\n",
      "[I 2024-02-05 13:33:07,659] Trial 57 finished with value: 0.5841646417090735 and parameters: {'classifier__n_estimators': 149, 'classifier__max_depth': 14, 'classifier__min_samples_split': 9, 'classifier__min_samples_leaf': 4, 'classifier__max_features': 0.9240853178833726, 'classifier__bootstrap': True}. Best is trial 55 with value: 0.5917443302543338.\n",
      "[I 2024-02-05 13:33:30,958] Trial 58 finished with value: 0.5886115799303981 and parameters: {'classifier__n_estimators': 141, 'classifier__max_depth': 14, 'classifier__min_samples_split': 8, 'classifier__min_samples_leaf': 3, 'classifier__max_features': 0.9023506446959398, 'classifier__bootstrap': True}. Best is trial 55 with value: 0.5917443302543338.\n",
      "[I 2024-02-05 13:33:53,109] Trial 59 finished with value: 0.5862667198029649 and parameters: {'classifier__n_estimators': 142, 'classifier__max_depth': 15, 'classifier__min_samples_split': 8, 'classifier__min_samples_leaf': 4, 'classifier__max_features': 0.9103208075878154, 'classifier__bootstrap': True}. Best is trial 55 with value: 0.5917443302543338.\n",
      "[I 2024-02-05 13:34:18,494] Trial 60 finished with value: 0.5818433553169308 and parameters: {'classifier__n_estimators': 152, 'classifier__max_depth': 14, 'classifier__min_samples_split': 8, 'classifier__min_samples_leaf': 5, 'classifier__max_features': 0.9798322371358482, 'classifier__bootstrap': True}. Best is trial 55 with value: 0.5917443302543338.\n",
      "[I 2024-02-05 13:34:43,059] Trial 61 finished with value: 0.5845045650322506 and parameters: {'classifier__n_estimators': 146, 'classifier__max_depth': 14, 'classifier__min_samples_split': 9, 'classifier__min_samples_leaf': 3, 'classifier__max_features': 0.9099539864012246, 'classifier__bootstrap': True}. Best is trial 55 with value: 0.5917443302543338.\n",
      "[I 2024-02-05 13:35:07,431] Trial 62 finished with value: 0.595276196536039 and parameters: {'classifier__n_estimators': 140, 'classifier__max_depth': 12, 'classifier__min_samples_split': 9, 'classifier__min_samples_leaf': 3, 'classifier__max_features': 0.937682746083312, 'classifier__bootstrap': True}. Best is trial 62 with value: 0.595276196536039.\n",
      "[I 2024-02-05 13:35:34,457] Trial 63 finished with value: 0.5822896289224762 and parameters: {'classifier__n_estimators': 158, 'classifier__max_depth': 12, 'classifier__min_samples_split': 9, 'classifier__min_samples_leaf': 3, 'classifier__max_features': 0.9413329582509657, 'classifier__bootstrap': True}. Best is trial 62 with value: 0.595276196536039.\n",
      "[I 2024-02-05 13:35:57,076] Trial 64 finished with value: 0.5845709038685334 and parameters: {'classifier__n_estimators': 139, 'classifier__max_depth': 12, 'classifier__min_samples_split': 8, 'classifier__min_samples_leaf': 3, 'classifier__max_features': 0.9780205294765771, 'classifier__bootstrap': True}. Best is trial 62 with value: 0.595276196536039.\n",
      "[I 2024-02-05 13:36:21,590] Trial 65 finished with value: 0.5818319404135861 and parameters: {'classifier__n_estimators': 164, 'classifier__max_depth': 12, 'classifier__min_samples_split': 9, 'classifier__min_samples_leaf': 6, 'classifier__max_features': 0.887763793375912, 'classifier__bootstrap': True}. Best is trial 62 with value: 0.595276196536039.\n",
      "[I 2024-02-05 13:36:37,058] Trial 66 finished with value: 0.5899555415337525 and parameters: {'classifier__n_estimators': 146, 'classifier__max_depth': 15, 'classifier__min_samples_split': 9, 'classifier__min_samples_leaf': 3, 'classifier__max_features': 0.5045339368792117, 'classifier__bootstrap': True}. Best is trial 62 with value: 0.595276196536039.\n",
      "[I 2024-02-05 13:36:51,048] Trial 67 finished with value: 0.572883105775774 and parameters: {'classifier__n_estimators': 138, 'classifier__max_depth': 15, 'classifier__min_samples_split': 8, 'classifier__min_samples_leaf': 5, 'classifier__max_features': 0.5039891013228486, 'classifier__bootstrap': True}. Best is trial 62 with value: 0.595276196536039.\n",
      "[I 2024-02-05 13:37:03,825] Trial 68 finished with value: 0.5819841287243521 and parameters: {'classifier__n_estimators': 72, 'classifier__max_depth': 15, 'classifier__min_samples_split': 2, 'classifier__min_samples_leaf': 4, 'classifier__max_features': 0.9492936849143709, 'classifier__bootstrap': True}. Best is trial 62 with value: 0.595276196536039.\n",
      "[I 2024-02-05 13:37:11,402] Trial 69 finished with value: 0.5798966213361536 and parameters: {'classifier__n_estimators': 58, 'classifier__max_depth': 12, 'classifier__min_samples_split': 10, 'classifier__min_samples_leaf': 3, 'classifier__max_features': 0.5877946120817077, 'classifier__bootstrap': False}. Best is trial 62 with value: 0.595276196536039.\n",
      "[I 2024-02-05 13:37:32,389] Trial 70 finished with value: 0.5867358712144679 and parameters: {'classifier__n_estimators': 118, 'classifier__max_depth': 13, 'classifier__min_samples_split': 7, 'classifier__min_samples_leaf': 3, 'classifier__max_features': 0.9837211971372545, 'classifier__bootstrap': True}. Best is trial 62 with value: 0.595276196536039.\n",
      "[I 2024-02-05 13:37:56,178] Trial 71 finished with value: 0.5764990331040771 and parameters: {'classifier__n_estimators': 145, 'classifier__max_depth': 14, 'classifier__min_samples_split': 9, 'classifier__min_samples_leaf': 3, 'classifier__max_features': 0.9176324237890298, 'classifier__bootstrap': True}. Best is trial 62 with value: 0.595276196536039.\n",
      "[I 2024-02-05 13:38:20,768] Trial 72 finished with value: 0.5815709995132694 and parameters: {'classifier__n_estimators': 157, 'classifier__max_depth': 14, 'classifier__min_samples_split': 9, 'classifier__min_samples_leaf': 4, 'classifier__max_features': 0.8750085279154006, 'classifier__bootstrap': True}. Best is trial 62 with value: 0.595276196536039.\n",
      "[I 2024-02-05 13:38:47,033] Trial 73 finished with value: 0.5936975012935009 and parameters: {'classifier__n_estimators': 149, 'classifier__max_depth': 14, 'classifier__min_samples_split': 8, 'classifier__min_samples_leaf': 3, 'classifier__max_features': 0.9340275912627406, 'classifier__bootstrap': True}. Best is trial 62 with value: 0.595276196536039.\n",
      "[I 2024-02-05 13:39:09,656] Trial 74 finished with value: 0.5946496166223512 and parameters: {'classifier__n_estimators': 129, 'classifier__max_depth': 15, 'classifier__min_samples_split': 8, 'classifier__min_samples_leaf': 3, 'classifier__max_features': 0.9505469531854986, 'classifier__bootstrap': True}. Best is trial 62 with value: 0.595276196536039.\n",
      "[I 2024-02-05 13:39:32,546] Trial 75 finished with value: 0.5842789028768502 and parameters: {'classifier__n_estimators': 129, 'classifier__max_depth': 15, 'classifier__min_samples_split': 7, 'classifier__min_samples_leaf': 3, 'classifier__max_features': 0.9336630508670622, 'classifier__bootstrap': True}. Best is trial 62 with value: 0.595276196536039.\n",
      "[I 2024-02-05 13:39:59,776] Trial 76 finished with value: 0.5774138308757033 and parameters: {'classifier__n_estimators': 170, 'classifier__max_depth': 15, 'classifier__min_samples_split': 8, 'classifier__min_samples_leaf': 4, 'classifier__max_features': 0.8508157809504779, 'classifier__bootstrap': True}. Best is trial 62 with value: 0.595276196536039.\n",
      "[I 2024-02-05 13:40:20,656] Trial 77 finished with value: 0.5781504785684561 and parameters: {'classifier__n_estimators': 139, 'classifier__max_depth': 14, 'classifier__min_samples_split': 8, 'classifier__min_samples_leaf': 4, 'classifier__max_features': 0.8242130662139018, 'classifier__bootstrap': True}. Best is trial 62 with value: 0.595276196536039.\n",
      "[I 2024-02-05 13:40:47,859] Trial 78 finished with value: 0.5857311138614377 and parameters: {'classifier__n_estimators': 153, 'classifier__max_depth': 15, 'classifier__min_samples_split': 7, 'classifier__min_samples_leaf': 3, 'classifier__max_features': 0.9509280108745244, 'classifier__bootstrap': True}. Best is trial 62 with value: 0.595276196536039.\n",
      "[I 2024-02-05 13:41:10,311] Trial 79 finished with value: 0.5795525336480055 and parameters: {'classifier__n_estimators': 162, 'classifier__max_depth': 15, 'classifier__min_samples_split': 6, 'classifier__min_samples_leaf': 8, 'classifier__max_features': 0.9007973687774873, 'classifier__bootstrap': True}. Best is trial 62 with value: 0.595276196536039.\n",
      "[I 2024-02-05 13:41:30,769] Trial 80 finished with value: 0.5820962747968388 and parameters: {'classifier__n_estimators': 149, 'classifier__max_depth': 13, 'classifier__min_samples_split': 8, 'classifier__min_samples_leaf': 3, 'classifier__max_features': 0.7575990700795728, 'classifier__bootstrap': True}. Best is trial 62 with value: 0.595276196536039.\n",
      "[I 2024-02-05 13:41:53,573] Trial 81 finished with value: 0.5897343917117314 and parameters: {'classifier__n_estimators': 131, 'classifier__max_depth': 11, 'classifier__min_samples_split': 10, 'classifier__min_samples_leaf': 2, 'classifier__max_features': 0.9673632562874023, 'classifier__bootstrap': True}. Best is trial 62 with value: 0.595276196536039.\n",
      "[I 2024-02-05 13:42:09,460] Trial 82 finished with value: 0.5437771644776339 and parameters: {'classifier__n_estimators': 137, 'classifier__max_depth': 6, 'classifier__min_samples_split': 5, 'classifier__min_samples_leaf': 2, 'classifier__max_features': 0.9653653582288584, 'classifier__bootstrap': True}. Best is trial 62 with value: 0.595276196536039.\n",
      "[I 2024-02-05 13:42:29,608] Trial 83 finished with value: 0.5777392233031372 and parameters: {'classifier__n_estimators': 132, 'classifier__max_depth': 14, 'classifier__min_samples_split': 8, 'classifier__min_samples_leaf': 3, 'classifier__max_features': 0.9377406590386655, 'classifier__bootstrap': True}. Best is trial 62 with value: 0.595276196536039.\n",
      "[I 2024-02-05 13:42:54,628] Trial 84 finished with value: 0.5866633181493388 and parameters: {'classifier__n_estimators': 142, 'classifier__max_depth': 12, 'classifier__min_samples_split': 10, 'classifier__min_samples_leaf': 2, 'classifier__max_features': 0.9544714742608669, 'classifier__bootstrap': True}. Best is trial 62 with value: 0.595276196536039.\n",
      "[I 2024-02-05 13:43:15,475] Trial 85 finished with value: 0.5873525753652158 and parameters: {'classifier__n_estimators': 131, 'classifier__max_depth': 11, 'classifier__min_samples_split': 9, 'classifier__min_samples_leaf': 3, 'classifier__max_features': 0.9236122826135413, 'classifier__bootstrap': True}. Best is trial 62 with value: 0.595276196536039.\n",
      "[I 2024-02-05 13:43:29,599] Trial 86 finished with value: 0.5817348629123488 and parameters: {'classifier__n_estimators': 125, 'classifier__max_depth': 14, 'classifier__min_samples_split': 10, 'classifier__min_samples_leaf': 2, 'classifier__max_features': 0.9712261076781468, 'classifier__bootstrap': True}. Best is trial 62 with value: 0.595276196536039.\n",
      "[I 2024-02-05 13:43:53,163] Trial 87 finished with value: 0.5663226936021719 and parameters: {'classifier__n_estimators': 149, 'classifier__max_depth': 13, 'classifier__min_samples_split': 9, 'classifier__min_samples_leaf': 4, 'classifier__max_features': 0.8807844132099045, 'classifier__bootstrap': False}. Best is trial 62 with value: 0.595276196536039.\n",
      "[I 2024-02-05 13:44:15,263] Trial 88 finished with value: 0.5886071029437543 and parameters: {'classifier__n_estimators': 127, 'classifier__max_depth': 11, 'classifier__min_samples_split': 8, 'classifier__min_samples_leaf': 2, 'classifier__max_features': 0.8904013710582644, 'classifier__bootstrap': True}. Best is trial 62 with value: 0.595276196536039.\n",
      "[I 2024-02-05 13:44:40,882] Trial 89 finished with value: 0.5805812126132677 and parameters: {'classifier__n_estimators': 142, 'classifier__max_depth': 14, 'classifier__min_samples_split': 9, 'classifier__min_samples_leaf': 3, 'classifier__max_features': 0.9324695397654589, 'classifier__bootstrap': True}. Best is trial 62 with value: 0.595276196536039.\n",
      "[I 2024-02-05 13:44:56,393] Trial 90 finished with value: 0.5754175468846671 and parameters: {'classifier__n_estimators': 87, 'classifier__max_depth': 12, 'classifier__min_samples_split': 7, 'classifier__min_samples_leaf': 2, 'classifier__max_features': 0.9155490413731515, 'classifier__bootstrap': True}. Best is trial 62 with value: 0.595276196536039.\n",
      "[I 2024-02-05 13:45:15,808] Trial 91 finished with value: 0.5745915266325594 and parameters: {'classifier__n_estimators': 119, 'classifier__max_depth': 11, 'classifier__min_samples_split': 8, 'classifier__min_samples_leaf': 2, 'classifier__max_features': 0.7888376269545253, 'classifier__bootstrap': True}. Best is trial 62 with value: 0.595276196536039.\n",
      "[I 2024-02-05 13:45:38,090] Trial 92 finished with value: 0.5840916701044738 and parameters: {'classifier__n_estimators': 126, 'classifier__max_depth': 11, 'classifier__min_samples_split': 8, 'classifier__min_samples_leaf': 2, 'classifier__max_features': 0.8940297600267838, 'classifier__bootstrap': True}. Best is trial 62 with value: 0.595276196536039.\n",
      "[I 2024-02-05 13:46:02,381] Trial 93 finished with value: 0.5794646172960152 and parameters: {'classifier__n_estimators': 136, 'classifier__max_depth': 10, 'classifier__min_samples_split': 8, 'classifier__min_samples_leaf': 3, 'classifier__max_features': 0.9891891124201719, 'classifier__bootstrap': True}. Best is trial 62 with value: 0.595276196536039.\n",
      "[I 2024-02-05 13:46:20,765] Trial 94 finished with value: 0.5800232621761403 and parameters: {'classifier__n_estimators': 113, 'classifier__max_depth': 11, 'classifier__min_samples_split': 9, 'classifier__min_samples_leaf': 2, 'classifier__max_features': 0.8374221879205497, 'classifier__bootstrap': True}. Best is trial 62 with value: 0.595276196536039.\n",
      "[I 2024-02-05 13:46:43,411] Trial 95 finished with value: 0.5889399715724469 and parameters: {'classifier__n_estimators': 129, 'classifier__max_depth': 15, 'classifier__min_samples_split': 10, 'classifier__min_samples_leaf': 3, 'classifier__max_features': 0.8574210444458341, 'classifier__bootstrap': True}. Best is trial 62 with value: 0.595276196536039.\n",
      "[I 2024-02-05 13:47:06,770] Trial 96 finished with value: 0.5813449996689488 and parameters: {'classifier__n_estimators': 133, 'classifier__max_depth': 15, 'classifier__min_samples_split': 10, 'classifier__min_samples_leaf': 3, 'classifier__max_features': 0.8471227482370826, 'classifier__bootstrap': True}. Best is trial 62 with value: 0.595276196536039.\n",
      "[I 2024-02-05 13:47:31,652] Trial 97 finished with value: 0.571425593405875 and parameters: {'classifier__n_estimators': 154, 'classifier__max_depth': 15, 'classifier__min_samples_split': 10, 'classifier__min_samples_leaf': 3, 'classifier__max_features': 0.8217898734925325, 'classifier__bootstrap': True}. Best is trial 62 with value: 0.595276196536039.\n",
      "[I 2024-02-05 13:47:52,583] Trial 98 finished with value: 0.5824345613930062 and parameters: {'classifier__n_estimators': 121, 'classifier__max_depth': 15, 'classifier__min_samples_split': 10, 'classifier__min_samples_leaf': 4, 'classifier__max_features': 0.8717344385296628, 'classifier__bootstrap': True}. Best is trial 62 with value: 0.595276196536039.\n",
      "[I 2024-02-05 13:48:13,554] Trial 99 finished with value: 0.5630487827978685 and parameters: {'classifier__n_estimators': 110, 'classifier__max_depth': 14, 'classifier__min_samples_split': 10, 'classifier__min_samples_leaf': 3, 'classifier__max_features': 0.8573469177624411, 'classifier__bootstrap': False}. Best is trial 62 with value: 0.595276196536039.\n"
     ]
    },
    {
     "name": "stdout",
     "output_type": "stream",
     "text": [
      "Best parameters: {'classifier__n_estimators': 140, 'classifier__max_depth': 12, 'classifier__min_samples_split': 9, 'classifier__min_samples_leaf': 3, 'classifier__max_features': 0.937682746083312, 'classifier__bootstrap': True}\n",
      "F1 Score: 0.5637305699481866\n"
     ]
    }
   ],
   "source": [
    "# Definisi model\n",
    "model = Pipeline(steps=[\n",
    "    ('preprocessor', preprocessor),\n",
    "    ('classifier', RandomForestClassifier())\n",
    "])\n",
    "# Fungsi objektif untuk optimisasi\n",
    "def objective(trial):\n",
    "    # Hyperparameter yang akan dioptimalkan\n",
    "    params = {\n",
    "        'classifier__n_estimators': trial.suggest_int('classifier__n_estimators', 50, 200),\n",
    "        'classifier__max_depth': trial.suggest_int('classifier__max_depth', 5, 15),\n",
    "        'classifier__min_samples_split': trial.suggest_int('classifier__min_samples_split', 2, 10),\n",
    "        'classifier__min_samples_leaf': trial.suggest_int('classifier__min_samples_leaf', 2, 10),\n",
    "        'classifier__max_features': trial.suggest_float('classifier__max_features', 0.5, 1.0),\n",
    "        'classifier__bootstrap': trial.suggest_categorical('classifier__bootstrap', [True, False])\n",
    "    }\n",
    "\n",
    "    # Mengatur hyperparameter model\n",
    "    model.set_params(**params)\n",
    "    \n",
    "    # Menghitung skor menggunakan cross-validation\n",
    "    scores = cross_val_score(model, X_train, y_train, cv=5, scoring='f1')\n",
    "    \n",
    "    # Mengembalikan nilai rata-rata skor\n",
    "    return scores.mean()\n",
    "\n",
    "# Membuat objek studi Optuna\n",
    "study = optuna.create_study(direction='maximize')\n",
    "study.optimize(objective, n_trials=100)\n",
    "\n",
    "# Menampilkan parameter terbaik\n",
    "best_params = study.best_params\n",
    "print('Best parameters:', best_params)\n",
    "\n",
    "# Mengatur model dengan parameter terbaik\n",
    "model.set_params(**best_params)\n",
    "\n",
    "# Melatih model dengan data latih\n",
    "model.fit(X_train, y_train)\n",
    "\n",
    "# Melakukan prediksi pada data uji\n",
    "y_pred = model.predict(X_test)\n",
    "\n",
    "# Menampilkan hasil evaluasi model\n",
    "f1 = f1_score(y_test, y_pred)\n",
    "print(f'F1 Score: {f1}')"
   ]
  },
  {
   "cell_type": "code",
   "execution_count": 26,
   "metadata": {},
   "outputs": [
    {
     "data": {
      "text/html": [
       "<style>#sk-container-id-1 {color: black;background-color: white;}#sk-container-id-1 pre{padding: 0;}#sk-container-id-1 div.sk-toggleable {background-color: white;}#sk-container-id-1 label.sk-toggleable__label {cursor: pointer;display: block;width: 100%;margin-bottom: 0;padding: 0.3em;box-sizing: border-box;text-align: center;}#sk-container-id-1 label.sk-toggleable__label-arrow:before {content: \"▸\";float: left;margin-right: 0.25em;color: #696969;}#sk-container-id-1 label.sk-toggleable__label-arrow:hover:before {color: black;}#sk-container-id-1 div.sk-estimator:hover label.sk-toggleable__label-arrow:before {color: black;}#sk-container-id-1 div.sk-toggleable__content {max-height: 0;max-width: 0;overflow: hidden;text-align: left;background-color: #f0f8ff;}#sk-container-id-1 div.sk-toggleable__content pre {margin: 0.2em;color: black;border-radius: 0.25em;background-color: #f0f8ff;}#sk-container-id-1 input.sk-toggleable__control:checked~div.sk-toggleable__content {max-height: 200px;max-width: 100%;overflow: auto;}#sk-container-id-1 input.sk-toggleable__control:checked~label.sk-toggleable__label-arrow:before {content: \"▾\";}#sk-container-id-1 div.sk-estimator input.sk-toggleable__control:checked~label.sk-toggleable__label {background-color: #d4ebff;}#sk-container-id-1 div.sk-label input.sk-toggleable__control:checked~label.sk-toggleable__label {background-color: #d4ebff;}#sk-container-id-1 input.sk-hidden--visually {border: 0;clip: rect(1px 1px 1px 1px);clip: rect(1px, 1px, 1px, 1px);height: 1px;margin: -1px;overflow: hidden;padding: 0;position: absolute;width: 1px;}#sk-container-id-1 div.sk-estimator {font-family: monospace;background-color: #f0f8ff;border: 1px dotted black;border-radius: 0.25em;box-sizing: border-box;margin-bottom: 0.5em;}#sk-container-id-1 div.sk-estimator:hover {background-color: #d4ebff;}#sk-container-id-1 div.sk-parallel-item::after {content: \"\";width: 100%;border-bottom: 1px solid gray;flex-grow: 1;}#sk-container-id-1 div.sk-label:hover label.sk-toggleable__label {background-color: #d4ebff;}#sk-container-id-1 div.sk-serial::before {content: \"\";position: absolute;border-left: 1px solid gray;box-sizing: border-box;top: 0;bottom: 0;left: 50%;z-index: 0;}#sk-container-id-1 div.sk-serial {display: flex;flex-direction: column;align-items: center;background-color: white;padding-right: 0.2em;padding-left: 0.2em;position: relative;}#sk-container-id-1 div.sk-item {position: relative;z-index: 1;}#sk-container-id-1 div.sk-parallel {display: flex;align-items: stretch;justify-content: center;background-color: white;position: relative;}#sk-container-id-1 div.sk-item::before, #sk-container-id-1 div.sk-parallel-item::before {content: \"\";position: absolute;border-left: 1px solid gray;box-sizing: border-box;top: 0;bottom: 0;left: 50%;z-index: -1;}#sk-container-id-1 div.sk-parallel-item {display: flex;flex-direction: column;z-index: 1;position: relative;background-color: white;}#sk-container-id-1 div.sk-parallel-item:first-child::after {align-self: flex-end;width: 50%;}#sk-container-id-1 div.sk-parallel-item:last-child::after {align-self: flex-start;width: 50%;}#sk-container-id-1 div.sk-parallel-item:only-child::after {width: 0;}#sk-container-id-1 div.sk-dashed-wrapped {border: 1px dashed gray;margin: 0 0.4em 0.5em 0.4em;box-sizing: border-box;padding-bottom: 0.4em;background-color: white;}#sk-container-id-1 div.sk-label label {font-family: monospace;font-weight: bold;display: inline-block;line-height: 1.2em;}#sk-container-id-1 div.sk-label-container {text-align: center;}#sk-container-id-1 div.sk-container {/* jupyter's `normalize.less` sets `[hidden] { display: none; }` but bootstrap.min.css set `[hidden] { display: none !important; }` so we also need the `!important` here to be able to override the default hidden behavior on the sphinx rendered scikit-learn.org. See: https://github.com/scikit-learn/scikit-learn/issues/21755 */display: inline-block !important;position: relative;}#sk-container-id-1 div.sk-text-repr-fallback {display: none;}</style><div id=\"sk-container-id-1\" class=\"sk-top-container\"><div class=\"sk-text-repr-fallback\"><pre>Pipeline(steps=[(&#x27;preprocessor&#x27;,\n",
       "                 ColumnTransformer(transformers=[(&#x27;num&#x27;,\n",
       "                                                  Pipeline(steps=[(&#x27;imputer&#x27;,\n",
       "                                                                   IterativeImputer(random_state=0)),\n",
       "                                                                  (&#x27;scaler&#x27;,\n",
       "                                                                   StandardScaler())]),\n",
       "                                                  [&#x27;credit_score&#x27;, &#x27;age&#x27;,\n",
       "                                                   &#x27;tenure&#x27;, &#x27;balance&#x27;,\n",
       "                                                   &#x27;products_number&#x27;,\n",
       "                                                   &#x27;estimated_salary&#x27;]),\n",
       "                                                 (&#x27;bin&#x27;,\n",
       "                                                  Pipeline(steps=[(&#x27;imputer&#x27;,\n",
       "                                                                   SimpleImputer(strategy=&#x27;most_frequent&#x27;))]),\n",
       "                                                  [&#x27;credit_card&#x27;,\n",
       "                                                   &#x27;active_member&#x27;]),\n",
       "                                                 (&#x27;cat&#x27;,\n",
       "                                                  Pipeline(steps=[(&#x27;imputer&#x27;,\n",
       "                                                                   SimpleImputer(strategy=&#x27;most_frequent&#x27;)),\n",
       "                                                                  (&#x27;onehot&#x27;,\n",
       "                                                                   OneHotEncoder(handle_unknown=&#x27;ignore&#x27;))]),\n",
       "                                                  [&#x27;country&#x27;, &#x27;gender&#x27;])])),\n",
       "                (&#x27;classifier&#x27;,\n",
       "                 RandomForestClassifier(max_depth=12,\n",
       "                                        max_features=0.937682746083312,\n",
       "                                        min_samples_leaf=3, min_samples_split=9,\n",
       "                                        n_estimators=140))])</pre><b>In a Jupyter environment, please rerun this cell to show the HTML representation or trust the notebook. <br />On GitHub, the HTML representation is unable to render, please try loading this page with nbviewer.org.</b></div><div class=\"sk-container\" hidden><div class=\"sk-item sk-dashed-wrapped\"><div class=\"sk-label-container\"><div class=\"sk-label sk-toggleable\"><input class=\"sk-toggleable__control sk-hidden--visually\" id=\"sk-estimator-id-1\" type=\"checkbox\" ><label for=\"sk-estimator-id-1\" class=\"sk-toggleable__label sk-toggleable__label-arrow\">Pipeline</label><div class=\"sk-toggleable__content\"><pre>Pipeline(steps=[(&#x27;preprocessor&#x27;,\n",
       "                 ColumnTransformer(transformers=[(&#x27;num&#x27;,\n",
       "                                                  Pipeline(steps=[(&#x27;imputer&#x27;,\n",
       "                                                                   IterativeImputer(random_state=0)),\n",
       "                                                                  (&#x27;scaler&#x27;,\n",
       "                                                                   StandardScaler())]),\n",
       "                                                  [&#x27;credit_score&#x27;, &#x27;age&#x27;,\n",
       "                                                   &#x27;tenure&#x27;, &#x27;balance&#x27;,\n",
       "                                                   &#x27;products_number&#x27;,\n",
       "                                                   &#x27;estimated_salary&#x27;]),\n",
       "                                                 (&#x27;bin&#x27;,\n",
       "                                                  Pipeline(steps=[(&#x27;imputer&#x27;,\n",
       "                                                                   SimpleImputer(strategy=&#x27;most_frequent&#x27;))]),\n",
       "                                                  [&#x27;credit_card&#x27;,\n",
       "                                                   &#x27;active_member&#x27;]),\n",
       "                                                 (&#x27;cat&#x27;,\n",
       "                                                  Pipeline(steps=[(&#x27;imputer&#x27;,\n",
       "                                                                   SimpleImputer(strategy=&#x27;most_frequent&#x27;)),\n",
       "                                                                  (&#x27;onehot&#x27;,\n",
       "                                                                   OneHotEncoder(handle_unknown=&#x27;ignore&#x27;))]),\n",
       "                                                  [&#x27;country&#x27;, &#x27;gender&#x27;])])),\n",
       "                (&#x27;classifier&#x27;,\n",
       "                 RandomForestClassifier(max_depth=12,\n",
       "                                        max_features=0.937682746083312,\n",
       "                                        min_samples_leaf=3, min_samples_split=9,\n",
       "                                        n_estimators=140))])</pre></div></div></div><div class=\"sk-serial\"><div class=\"sk-item sk-dashed-wrapped\"><div class=\"sk-label-container\"><div class=\"sk-label sk-toggleable\"><input class=\"sk-toggleable__control sk-hidden--visually\" id=\"sk-estimator-id-2\" type=\"checkbox\" ><label for=\"sk-estimator-id-2\" class=\"sk-toggleable__label sk-toggleable__label-arrow\">preprocessor: ColumnTransformer</label><div class=\"sk-toggleable__content\"><pre>ColumnTransformer(transformers=[(&#x27;num&#x27;,\n",
       "                                 Pipeline(steps=[(&#x27;imputer&#x27;,\n",
       "                                                  IterativeImputer(random_state=0)),\n",
       "                                                 (&#x27;scaler&#x27;, StandardScaler())]),\n",
       "                                 [&#x27;credit_score&#x27;, &#x27;age&#x27;, &#x27;tenure&#x27;, &#x27;balance&#x27;,\n",
       "                                  &#x27;products_number&#x27;, &#x27;estimated_salary&#x27;]),\n",
       "                                (&#x27;bin&#x27;,\n",
       "                                 Pipeline(steps=[(&#x27;imputer&#x27;,\n",
       "                                                  SimpleImputer(strategy=&#x27;most_frequent&#x27;))]),\n",
       "                                 [&#x27;credit_card&#x27;, &#x27;active_member&#x27;]),\n",
       "                                (&#x27;cat&#x27;,\n",
       "                                 Pipeline(steps=[(&#x27;imputer&#x27;,\n",
       "                                                  SimpleImputer(strategy=&#x27;most_frequent&#x27;)),\n",
       "                                                 (&#x27;onehot&#x27;,\n",
       "                                                  OneHotEncoder(handle_unknown=&#x27;ignore&#x27;))]),\n",
       "                                 [&#x27;country&#x27;, &#x27;gender&#x27;])])</pre></div></div></div><div class=\"sk-parallel\"><div class=\"sk-parallel-item\"><div class=\"sk-item\"><div class=\"sk-label-container\"><div class=\"sk-label sk-toggleable\"><input class=\"sk-toggleable__control sk-hidden--visually\" id=\"sk-estimator-id-3\" type=\"checkbox\" ><label for=\"sk-estimator-id-3\" class=\"sk-toggleable__label sk-toggleable__label-arrow\">num</label><div class=\"sk-toggleable__content\"><pre>[&#x27;credit_score&#x27;, &#x27;age&#x27;, &#x27;tenure&#x27;, &#x27;balance&#x27;, &#x27;products_number&#x27;, &#x27;estimated_salary&#x27;]</pre></div></div></div><div class=\"sk-serial\"><div class=\"sk-item\"><div class=\"sk-serial\"><div class=\"sk-item\"><div class=\"sk-estimator sk-toggleable\"><input class=\"sk-toggleable__control sk-hidden--visually\" id=\"sk-estimator-id-4\" type=\"checkbox\" ><label for=\"sk-estimator-id-4\" class=\"sk-toggleable__label sk-toggleable__label-arrow\">IterativeImputer</label><div class=\"sk-toggleable__content\"><pre>IterativeImputer(random_state=0)</pre></div></div></div><div class=\"sk-item\"><div class=\"sk-estimator sk-toggleable\"><input class=\"sk-toggleable__control sk-hidden--visually\" id=\"sk-estimator-id-5\" type=\"checkbox\" ><label for=\"sk-estimator-id-5\" class=\"sk-toggleable__label sk-toggleable__label-arrow\">StandardScaler</label><div class=\"sk-toggleable__content\"><pre>StandardScaler()</pre></div></div></div></div></div></div></div></div><div class=\"sk-parallel-item\"><div class=\"sk-item\"><div class=\"sk-label-container\"><div class=\"sk-label sk-toggleable\"><input class=\"sk-toggleable__control sk-hidden--visually\" id=\"sk-estimator-id-6\" type=\"checkbox\" ><label for=\"sk-estimator-id-6\" class=\"sk-toggleable__label sk-toggleable__label-arrow\">bin</label><div class=\"sk-toggleable__content\"><pre>[&#x27;credit_card&#x27;, &#x27;active_member&#x27;]</pre></div></div></div><div class=\"sk-serial\"><div class=\"sk-item\"><div class=\"sk-serial\"><div class=\"sk-item\"><div class=\"sk-estimator sk-toggleable\"><input class=\"sk-toggleable__control sk-hidden--visually\" id=\"sk-estimator-id-7\" type=\"checkbox\" ><label for=\"sk-estimator-id-7\" class=\"sk-toggleable__label sk-toggleable__label-arrow\">SimpleImputer</label><div class=\"sk-toggleable__content\"><pre>SimpleImputer(strategy=&#x27;most_frequent&#x27;)</pre></div></div></div></div></div></div></div></div><div class=\"sk-parallel-item\"><div class=\"sk-item\"><div class=\"sk-label-container\"><div class=\"sk-label sk-toggleable\"><input class=\"sk-toggleable__control sk-hidden--visually\" id=\"sk-estimator-id-8\" type=\"checkbox\" ><label for=\"sk-estimator-id-8\" class=\"sk-toggleable__label sk-toggleable__label-arrow\">cat</label><div class=\"sk-toggleable__content\"><pre>[&#x27;country&#x27;, &#x27;gender&#x27;]</pre></div></div></div><div class=\"sk-serial\"><div class=\"sk-item\"><div class=\"sk-serial\"><div class=\"sk-item\"><div class=\"sk-estimator sk-toggleable\"><input class=\"sk-toggleable__control sk-hidden--visually\" id=\"sk-estimator-id-9\" type=\"checkbox\" ><label for=\"sk-estimator-id-9\" class=\"sk-toggleable__label sk-toggleable__label-arrow\">SimpleImputer</label><div class=\"sk-toggleable__content\"><pre>SimpleImputer(strategy=&#x27;most_frequent&#x27;)</pre></div></div></div><div class=\"sk-item\"><div class=\"sk-estimator sk-toggleable\"><input class=\"sk-toggleable__control sk-hidden--visually\" id=\"sk-estimator-id-10\" type=\"checkbox\" ><label for=\"sk-estimator-id-10\" class=\"sk-toggleable__label sk-toggleable__label-arrow\">OneHotEncoder</label><div class=\"sk-toggleable__content\"><pre>OneHotEncoder(handle_unknown=&#x27;ignore&#x27;)</pre></div></div></div></div></div></div></div></div></div></div><div class=\"sk-item\"><div class=\"sk-estimator sk-toggleable\"><input class=\"sk-toggleable__control sk-hidden--visually\" id=\"sk-estimator-id-11\" type=\"checkbox\" ><label for=\"sk-estimator-id-11\" class=\"sk-toggleable__label sk-toggleable__label-arrow\">RandomForestClassifier</label><div class=\"sk-toggleable__content\"><pre>RandomForestClassifier(max_depth=12, max_features=0.937682746083312,\n",
       "                       min_samples_leaf=3, min_samples_split=9,\n",
       "                       n_estimators=140)</pre></div></div></div></div></div></div></div>"
      ],
      "text/plain": [
       "Pipeline(steps=[('preprocessor',\n",
       "                 ColumnTransformer(transformers=[('num',\n",
       "                                                  Pipeline(steps=[('imputer',\n",
       "                                                                   IterativeImputer(random_state=0)),\n",
       "                                                                  ('scaler',\n",
       "                                                                   StandardScaler())]),\n",
       "                                                  ['credit_score', 'age',\n",
       "                                                   'tenure', 'balance',\n",
       "                                                   'products_number',\n",
       "                                                   'estimated_salary']),\n",
       "                                                 ('bin',\n",
       "                                                  Pipeline(steps=[('imputer',\n",
       "                                                                   SimpleImputer(strategy='most_frequent'))]),\n",
       "                                                  ['credit_card',\n",
       "                                                   'active_member']),\n",
       "                                                 ('cat',\n",
       "                                                  Pipeline(steps=[('imputer',\n",
       "                                                                   SimpleImputer(strategy='most_frequent')),\n",
       "                                                                  ('onehot',\n",
       "                                                                   OneHotEncoder(handle_unknown='ignore'))]),\n",
       "                                                  ['country', 'gender'])])),\n",
       "                ('classifier',\n",
       "                 RandomForestClassifier(max_depth=12,\n",
       "                                        max_features=0.937682746083312,\n",
       "                                        min_samples_leaf=3, min_samples_split=9,\n",
       "                                        n_estimators=140))])"
      ]
     },
     "execution_count": 26,
     "metadata": {},
     "output_type": "execute_result"
    }
   ],
   "source": [
    "model.fit(X, y)"
   ]
  },
  {
   "cell_type": "code",
   "execution_count": 37,
   "metadata": {},
   "outputs": [
    {
     "name": "stdout",
     "output_type": "stream",
     "text": [
      "F1 Score: 0.7629268292682927\n"
     ]
    }
   ],
   "source": [
    "y_pred1 = model.predict(X_test)\n",
    "# Menampilkan hasil evaluasi model\n",
    "f1 = f1_score(y_test, y_pred1)\n",
    "print(f'F1 Score: {f1}')"
   ]
  },
  {
   "cell_type": "code",
   "execution_count": 34,
   "metadata": {},
   "outputs": [
    {
     "data": {
      "text/html": [
       "<div>\n",
       "<style scoped>\n",
       "    .dataframe tbody tr th:only-of-type {\n",
       "        vertical-align: middle;\n",
       "    }\n",
       "\n",
       "    .dataframe tbody tr th {\n",
       "        vertical-align: top;\n",
       "    }\n",
       "\n",
       "    .dataframe thead th {\n",
       "        text-align: right;\n",
       "    }\n",
       "</style>\n",
       "<table border=\"1\" class=\"dataframe\">\n",
       "  <thead>\n",
       "    <tr style=\"text-align: right;\">\n",
       "      <th></th>\n",
       "      <th>credit_score</th>\n",
       "      <th>country</th>\n",
       "      <th>gender</th>\n",
       "      <th>age</th>\n",
       "      <th>tenure</th>\n",
       "      <th>balance</th>\n",
       "      <th>products_number</th>\n",
       "      <th>credit_card</th>\n",
       "      <th>active_member</th>\n",
       "      <th>estimated_salary</th>\n",
       "    </tr>\n",
       "  </thead>\n",
       "  <tbody>\n",
       "    <tr>\n",
       "      <th>0</th>\n",
       "      <td>624</td>\n",
       "      <td>Jawa Timur</td>\n",
       "      <td>Male</td>\n",
       "      <td>51</td>\n",
       "      <td>10</td>\n",
       "      <td>191743610.0</td>\n",
       "      <td>2</td>\n",
       "      <td>1</td>\n",
       "      <td>1</td>\n",
       "      <td>1.986174e+08</td>\n",
       "    </tr>\n",
       "    <tr>\n",
       "      <th>1</th>\n",
       "      <td>717</td>\n",
       "      <td>Jawa Timur</td>\n",
       "      <td>Male</td>\n",
       "      <td>31</td>\n",
       "      <td>4</td>\n",
       "      <td>201565523.7</td>\n",
       "      <td>1</td>\n",
       "      <td>0</td>\n",
       "      <td>0</td>\n",
       "      <td>6.398102e+07</td>\n",
       "    </tr>\n",
       "    <tr>\n",
       "      <th>2</th>\n",
       "      <td>566</td>\n",
       "      <td>Jawa Timur</td>\n",
       "      <td>Female</td>\n",
       "      <td>21</td>\n",
       "      <td>3</td>\n",
       "      <td>0.0</td>\n",
       "      <td>2</td>\n",
       "      <td>1</td>\n",
       "      <td>1</td>\n",
       "      <td>5.634882e+06</td>\n",
       "    </tr>\n",
       "    <tr>\n",
       "      <th>3</th>\n",
       "      <td>672</td>\n",
       "      <td>Jawa Timur</td>\n",
       "      <td>Male</td>\n",
       "      <td>52</td>\n",
       "      <td>8</td>\n",
       "      <td>264163135.8</td>\n",
       "      <td>1</td>\n",
       "      <td>0</td>\n",
       "      <td>0</td>\n",
       "      <td>8.764698e+07</td>\n",
       "    </tr>\n",
       "    <tr>\n",
       "      <th>4</th>\n",
       "      <td>649</td>\n",
       "      <td>Jawa Timur</td>\n",
       "      <td>Female</td>\n",
       "      <td>45</td>\n",
       "      <td>5</td>\n",
       "      <td>144173768.0</td>\n",
       "      <td>1</td>\n",
       "      <td>1</td>\n",
       "      <td>0</td>\n",
       "      <td>2.693794e+08</td>\n",
       "    </tr>\n",
       "    <tr>\n",
       "      <th>...</th>\n",
       "      <td>...</td>\n",
       "      <td>...</td>\n",
       "      <td>...</td>\n",
       "      <td>...</td>\n",
       "      <td>...</td>\n",
       "      <td>...</td>\n",
       "      <td>...</td>\n",
       "      <td>...</td>\n",
       "      <td>...</td>\n",
       "      <td>...</td>\n",
       "    </tr>\n",
       "    <tr>\n",
       "      <th>2995</th>\n",
       "      <td>768</td>\n",
       "      <td>Jawa Timur</td>\n",
       "      <td>Male</td>\n",
       "      <td>54</td>\n",
       "      <td>8</td>\n",
       "      <td>108321049.7</td>\n",
       "      <td>1</td>\n",
       "      <td>1</td>\n",
       "      <td>1</td>\n",
       "      <td>1.078057e+08</td>\n",
       "    </tr>\n",
       "    <tr>\n",
       "      <th>2996</th>\n",
       "      <td>682</td>\n",
       "      <td>Jawa Timur</td>\n",
       "      <td>Female</td>\n",
       "      <td>58</td>\n",
       "      <td>1</td>\n",
       "      <td>0.0</td>\n",
       "      <td>1</td>\n",
       "      <td>1</td>\n",
       "      <td>1</td>\n",
       "      <td>1.097774e+06</td>\n",
       "    </tr>\n",
       "    <tr>\n",
       "      <th>2997</th>\n",
       "      <td>735</td>\n",
       "      <td>Jawa Timur</td>\n",
       "      <td>Female</td>\n",
       "      <td>38</td>\n",
       "      <td>1</td>\n",
       "      <td>0.0</td>\n",
       "      <td>3</td>\n",
       "      <td>0</td>\n",
       "      <td>0</td>\n",
       "      <td>1.432935e+08</td>\n",
       "    </tr>\n",
       "    <tr>\n",
       "      <th>2998</th>\n",
       "      <td>667</td>\n",
       "      <td>Jawa Timur</td>\n",
       "      <td>Male</td>\n",
       "      <td>43</td>\n",
       "      <td>8</td>\n",
       "      <td>295579231.9</td>\n",
       "      <td>1</td>\n",
       "      <td>1</td>\n",
       "      <td>0</td>\n",
       "      <td>1.515099e+08</td>\n",
       "    </tr>\n",
       "    <tr>\n",
       "      <th>2999</th>\n",
       "      <td>697</td>\n",
       "      <td>Jawa Barat</td>\n",
       "      <td>Male</td>\n",
       "      <td>51</td>\n",
       "      <td>1</td>\n",
       "      <td>229825982.3</td>\n",
       "      <td>1</td>\n",
       "      <td>1</td>\n",
       "      <td>1</td>\n",
       "      <td>8.325545e+07</td>\n",
       "    </tr>\n",
       "  </tbody>\n",
       "</table>\n",
       "<p>3000 rows × 10 columns</p>\n",
       "</div>"
      ],
      "text/plain": [
       "      credit_score     country  gender  age  tenure      balance  \\\n",
       "0              624  Jawa Timur    Male   51      10  191743610.0   \n",
       "1              717  Jawa Timur    Male   31       4  201565523.7   \n",
       "2              566  Jawa Timur  Female   21       3          0.0   \n",
       "3              672  Jawa Timur    Male   52       8  264163135.8   \n",
       "4              649  Jawa Timur  Female   45       5  144173768.0   \n",
       "...            ...         ...     ...  ...     ...          ...   \n",
       "2995           768  Jawa Timur    Male   54       8  108321049.7   \n",
       "2996           682  Jawa Timur  Female   58       1          0.0   \n",
       "2997           735  Jawa Timur  Female   38       1          0.0   \n",
       "2998           667  Jawa Timur    Male   43       8  295579231.9   \n",
       "2999           697  Jawa Barat    Male   51       1  229825982.3   \n",
       "\n",
       "      products_number  credit_card  active_member  estimated_salary  \n",
       "0                   2            1              1      1.986174e+08  \n",
       "1                   1            0              0      6.398102e+07  \n",
       "2                   2            1              1      5.634882e+06  \n",
       "3                   1            0              0      8.764698e+07  \n",
       "4                   1            1              0      2.693794e+08  \n",
       "...               ...          ...            ...               ...  \n",
       "2995                1            1              1      1.078057e+08  \n",
       "2996                1            1              1      1.097774e+06  \n",
       "2997                3            0              0      1.432935e+08  \n",
       "2998                1            1              0      1.515099e+08  \n",
       "2999                1            1              1      8.325545e+07  \n",
       "\n",
       "[3000 rows x 10 columns]"
      ]
     },
     "execution_count": 34,
     "metadata": {},
     "output_type": "execute_result"
    }
   ],
   "source": [
    "x1 = df_test\n",
    "x1"
   ]
  },
  {
   "cell_type": "code",
   "execution_count": 36,
   "metadata": {},
   "outputs": [
    {
     "name": "stdout",
     "output_type": "stream",
     "text": [
      "F1 Score: 0.16412213740458018\n"
     ]
    }
   ],
   "source": [
    "y_pred1 = model.predict(x1)\n",
    "# Menampilkan hasil evaluasi model\n",
    "f1 = f1_score(y_test, y_pred1)\n",
    "print(f'F1 Score: {f1}')"
   ]
  },
  {
   "cell_type": "code",
   "execution_count": 32,
   "metadata": {},
   "outputs": [],
   "source": [
    "submission['churn'] = y_pred1\n",
    "submission.churn.value_counts()\n",
    "\n",
    "submission.to_csv(\"C:/IRIS COMPETITION/predict14.csv\", index=False)\n",
    "\n"
   ]
  },
  {
   "cell_type": "code",
   "execution_count": null,
   "metadata": {},
   "outputs": [
    {
     "name": "stdout",
     "output_type": "stream",
     "text": [
      "Panjang indeks submission: 3000\n",
      "Panjang y_pred: 3000\n"
     ]
    }
   ],
   "source": [
    "# Memeriksa panjang indeks DataFrame\n",
    "print(\"Panjang indeks submission:\", len(submission.index))\n",
    "\n",
    "# Memeriksa panjang y_pred\n",
    "print(\"Panjang y_pred:\", len(y_pred))\n",
    "\n",
    "# Menyamakan panjang indeks dan panjang y_pred\n",
    "if len(submission.index) == len(y_pred):\n",
    "    submission['churn'] = y_pred\n",
    "    submission.churn.value_counts()\n",
    "    \n",
    "    # Menyimpan DataFrame ke dalam file CSV\n",
    "    submission.to_csv(\"C:/IRIS COMPETITION/predict13.csv\", index=False)\n",
    "else:\n",
    "    print(\"Panjang indeks dan y_pred tidak sesuai, periksa kembali data Anda.\")\n"
   ]
  },
  {
   "cell_type": "markdown",
   "metadata": {},
   "source": [
    "## HANDLING TYPE DATA"
   ]
  },
  {
   "cell_type": "code",
   "execution_count": null,
   "metadata": {},
   "outputs": [],
   "source": [
    "# df.dtypes"
   ]
  },
  {
   "cell_type": "code",
   "execution_count": null,
   "metadata": {},
   "outputs": [],
   "source": [
    "# col_int = ['age', 'tenure', 'balance', 'products_number', 'credit_card', 'active_member', 'estimated_salary']\n",
    "# df[col_int] = df[col_int].astype('int64')"
   ]
  },
  {
   "cell_type": "code",
   "execution_count": null,
   "metadata": {},
   "outputs": [],
   "source": [
    "# df.dtypes"
   ]
  },
  {
   "cell_type": "code",
   "execution_count": null,
   "metadata": {},
   "outputs": [],
   "source": [
    "# unique_values = np.unique(df['churn'])\n",
    "# print(unique_values)"
   ]
  },
  {
   "cell_type": "markdown",
   "metadata": {},
   "source": [
    "## EDA"
   ]
  },
  {
   "cell_type": "code",
   "execution_count": null,
   "metadata": {},
   "outputs": [],
   "source": [
    "# import matplotlib.pyplot as plt\n",
    "# import seaborn as sns\n",
    "\n",
    "# # Misalkan df adalah DataFrame Anda\n",
    "\n",
    "# # Memilih hanya kolom-kolom numerik\n",
    "# numeric_cols = df.select_dtypes(include='number').columns\n",
    "\n",
    "# # Set ukuran gambar dan jumlah kolom pada subplot\n",
    "# num_cols = len(numeric_cols)\n",
    "# fig, axes = plt.subplots(nrows=1, ncols=num_cols, figsize=(16, 4))\n",
    "\n",
    "# # Iterasi melalui setiap kolom numerik dan membuat KDE plot\n",
    "# for i, col in enumerate(numeric_cols):\n",
    "#     # KDE plot\n",
    "#     sns.kdeplot(df[col], ax=axes[i])\n",
    "#     axes[i].set_title(f'KDE Plot - {col}')\n",
    "\n",
    "# # Menampilkan gambar KDE plot\n",
    "# plt.show()\n",
    "\n",
    "# # Set ukuran gambar dan jumlah kolom pada subplot\n",
    "# fig, axes = plt.subplots(nrows=1, ncols=num_cols, figsize=(16, 4))\n",
    "\n",
    "# # Iterasi melalui setiap kolom numerik dan membuat boxplot\n",
    "# for i, col in enumerate(numeric_cols):\n",
    "#     # Boxplot\n",
    "#     sns.boxplot(x=df[col], ax=axes[i])\n",
    "#     axes[i].set_title(f'Boxplot - {col}')\n",
    "\n",
    "# # Menampilkan gambar boxplot\n",
    "# plt.show()\n"
   ]
  },
  {
   "cell_type": "code",
   "execution_count": null,
   "metadata": {},
   "outputs": [],
   "source": [
    "# import pandas as pd\n",
    "\n",
    "# # Fungsi untuk menangani outlier menggunakan IQR\n",
    "# def handle_outliers_iqr(column):\n",
    "#     Q1 = column.quantile(0.25)\n",
    "#     Q3 = column.quantile(0.75)\n",
    "#     IQR = Q3 - Q1\n",
    "    \n",
    "#     lower_bound = Q1 - 1.5 * IQR\n",
    "#     upper_bound = Q3 + 1.5 * IQR\n",
    "    \n",
    "#     # Mengganti nilai outlier dengan batas atas dan batas bawah\n",
    "#     column = column.apply(lambda x: upper_bound if x > upper_bound else (lower_bound if x < lower_bound else x))\n",
    "    \n",
    "#     return column\n",
    "\n",
    "# # Menangani outlier hanya pada fitur, bukan target\n",
    "# for col in df.select_dtypes(include='number').columns:\n",
    "#     if col != 'churn':\n",
    "#         df[col] = handle_outliers_iqr(df[col])\n",
    "\n",
    "# # Menampilkan DataFrame setelah menangani outlier\n",
    "# print(df)\n"
   ]
  },
  {
   "cell_type": "code",
   "execution_count": null,
   "metadata": {},
   "outputs": [],
   "source": [
    "# import pandas as pd\n",
    "\n",
    "# # Misal df adalah DataFrame hasil dari data preprocessing\n",
    "# num_rows, num_columns = df.shape\n",
    "\n",
    "# print(\"Jumlah baris setelah data preprocessing:\", num_rows)\n"
   ]
  },
  {
   "cell_type": "code",
   "execution_count": null,
   "metadata": {},
   "outputs": [],
   "source": [
    "# unique_values = np.unique(df['churn'])\n",
    "# print(unique_values)"
   ]
  },
  {
   "cell_type": "code",
   "execution_count": null,
   "metadata": {},
   "outputs": [],
   "source": [
    "# df['churn']"
   ]
  },
  {
   "cell_type": "markdown",
   "metadata": {},
   "source": [
    "## Label encoding"
   ]
  },
  {
   "cell_type": "code",
   "execution_count": null,
   "metadata": {},
   "outputs": [],
   "source": [
    "\n",
    "\n"
   ]
  },
  {
   "cell_type": "code",
   "execution_count": null,
   "metadata": {},
   "outputs": [],
   "source": [
    "\n",
    "\n",
    "# from sklearn.preprocessing import LabelEncoder\n",
    "\n",
    "# le = LabelEncoder()\n",
    "\n",
    "# df[\"credit_score\"] = le.fit_transform(df[\"credit_score\"])\n",
    "# df[\"country\"] = le.fit_transform(df[\"country\"])\n",
    "# df[\"gender\"] = le.fit_transform(df[\"gender\"])\n",
    "# df[\"age\"] = le.fit_transform(df[\"age\"])\n",
    "# df[\"tenure\"] = le.fit_transform(df[\"tenure\"])\n",
    "# df[\"balance\"] = le.fit_transform(df[\"balance\"])\n",
    "# df[\"products_number\"] = le.fit_transform(df[\"products_number\"])\n",
    "# df[\"credit_card\"] = le.fit_transform(df[\"credit_card\"])\n",
    "# df[\"active_member\"] = le.fit_transform(df[\"active_member\"])\n",
    "# df[\"estimated_salary\"] = le.fit_transform(df[\"estimated_salary\"])\n",
    "# df.head()"
   ]
  },
  {
   "cell_type": "code",
   "execution_count": null,
   "metadata": {},
   "outputs": [],
   "source": [
    "# import pandas as pd\n",
    "\n",
    "# # Misal df adalah DataFrame hasil dari data preprocessing\n",
    "# num_rows, num_columns = df.shape\n",
    "\n",
    "# print(\"Jumlah baris setelah data preprocessing:\", num_rows)\n"
   ]
  },
  {
   "cell_type": "code",
   "execution_count": null,
   "metadata": {},
   "outputs": [],
   "source": [
    "# print(test.columns)\n"
   ]
  },
  {
   "cell_type": "code",
   "execution_count": null,
   "metadata": {},
   "outputs": [],
   "source": [
    "\n"
   ]
  },
  {
   "cell_type": "code",
   "execution_count": null,
   "metadata": {},
   "outputs": [],
   "source": [
    "# from sklearn.model_selection import train_test_split\n",
    "# import optuna\n",
    "# from imblearn.over_sampling import SMOTE\n",
    "# from sklearn.ensemble import RandomForestClassifier\n",
    "# from sklearn.metrics import accuracy_score\n",
    "# from sklearn.model_selection import train_test_split\n",
    "\n",
    "# # Memisahkan variabel independen dan dependen\n",
    "# X = df.drop(columns=['churn'])\n",
    "# y = df['churn']\n",
    "\n",
    "# test_size = 3000 / 7000  # Proporsi data pengujian yang diinginkan\n",
    "\n",
    "\n",
    "# # Membagi data menjadi train dan tes\n",
    "# X_train, X_test, y_train, y_test = train_test_split(X, y, test_size= test_size, random_state=42)\n",
    "\n",
    "# # Oversampling dengan SMOTE hanya pada data training\n",
    "# smote = SMOTE(sampling_strategy=0.5, random_state=42)\n",
    "# X_train_over, y_train_over = smote.fit_resample(X_train, y_train)\n",
    "\n",
    "# # Fungsi objektif untuk keseluruhan pembelajaran model\n",
    "# def objective(trial):\n",
    "#     try:\n",
    "#         # Hyperparameter terbaik akan ditemukan dari sini\n",
    "#         param = {\n",
    "#             'n_estimators': trial.suggest_int('n_estimators', 50, 200),\n",
    "#             'max_depth': trial.suggest_int('max_depth', 5, 15),\n",
    "#             'min_samples_split': trial.suggest_int('min_samples_split', 2, 10),\n",
    "#             'min_samples_leaf': trial.suggest_int('min_samples_leaf', 2, 10),\n",
    "#             'max_features': trial.suggest_float('max_features', 0.5, 1.0),\n",
    "#             'bootstrap': trial.suggest_categorical('bootstrap', [True, False])\n",
    "#         }\n",
    "\n",
    "#         # Melatih model dengan data oversampled\n",
    "#         rf_clf = RandomForestClassifier(**param, random_state=42)\n",
    "#         rf_clf.fit(X_train, y_train)\n",
    "\n",
    "#         # Melakukan Prediksi pada data uji yang sebenarnya tidak perlu di-oversample\n",
    "#         preds = rf_clf.predict(X_test)\n",
    "        \n",
    "#         # Menghitung Akurasi\n",
    "#         accuracy = accuracy_score(y_test, preds)\n",
    "#         return 1.0 - accuracy  # Minimalkan 1 - akurasi karena Optuna mencari nilai minimum\n",
    "\n",
    "#     except Exception as e:\n",
    "#         print(e)\n",
    "#         return np.inf  # Mengembalikan nilai yang besar untuk menunjukkan kegagalan\n",
    "\n",
    "# # Memastikan objek pembelajaran oleh Optuna\n",
    "# study = optuna.create_study(direction='minimize')\n",
    "# study.optimize(objective, n_trials=100)\n",
    "\n",
    "# # Parameter Terbaik\n",
    "# best_params = study.best_params\n",
    "# print('Best parameters:', best_params)\n",
    "\n",
    "# # Melatih model dengan parameter terbaik\n",
    "# best_rf_clf = RandomForestClassifier(**best_params, random_state=42)\n",
    "\n",
    "# # Melakukan oversampling pada data latih sebelum melatih model akhir\n",
    "# X_train, y_train = smote.fit_resample(X_train, y_train)\n",
    "# best_rf_clf.fit(X_train, y_train)\n",
    "\n",
    "# # Melakukan prediksi pada data uji\n",
    "# y_pred = best_rf_clf.predict(X_test)\n",
    "\n",
    "# # Evaluasi model\n",
    "# accuracy = accuracy_score(y_test, y_pred)\n",
    "# print(f'Accuracy: {accuracy}')\n"
   ]
  },
  {
   "cell_type": "code",
   "execution_count": null,
   "metadata": {},
   "outputs": [],
   "source": [
    "\n",
    "# # Melakukan cross-validation dengan F1 score sebagai metrik\n",
    "# f1_scorer = make_scorer(y_pred)\n",
    "# cross_val_scores = cross_val_score(model, X_train, y_train, cv=5, scoring=f1_scorer)\n",
    "\n",
    "# # Menampilkan hasil cross-validation\n",
    "# print(\"Cross-Validation F1 Scores:\", cross_val_scores)\n",
    "# print(\"Mean F1 Score:\", np.mean(cross_val_scores))\n"
   ]
  },
  {
   "cell_type": "code",
   "execution_count": null,
   "metadata": {},
   "outputs": [],
   "source": [
    "# import pandas as pd\n",
    "\n",
    "# # Misal X_test dan y_test adalah Pandas DataFrame\n",
    "# num_rows_X_test = X_test.shape[0]\n",
    "# num_rows_y_test = y_test.shape[0]\n",
    "\n",
    "# print(\"Jumlah baris X_test:\", num_rows_X_test)\n",
    "# print(\"Jumlah baris y_test:\", num_rows_y_test)\n"
   ]
  },
  {
   "cell_type": "code",
   "execution_count": null,
   "metadata": {},
   "outputs": [],
   "source": [
    "\n"
   ]
  },
  {
   "cell_type": "code",
   "execution_count": null,
   "metadata": {},
   "outputs": [],
   "source": [
    "\n"
   ]
  },
  {
   "cell_type": "code",
   "execution_count": null,
   "metadata": {},
   "outputs": [],
   "source": [
    "# from sklearn.ensemble import RandomForestClassifier\n",
    "\n",
    "# rf_clf = RandomForestClassifier(random_state=42)\n",
    "# rf_clf.fit(X_train_over, y_train_over)\n"
   ]
  },
  {
   "cell_type": "code",
   "execution_count": null,
   "metadata": {},
   "outputs": [],
   "source": []
  },
  {
   "cell_type": "code",
   "execution_count": null,
   "metadata": {},
   "outputs": [],
   "source": [
    "# y_pred = rf_clf.predict(X_test)\n"
   ]
  },
  {
   "cell_type": "code",
   "execution_count": null,
   "metadata": {},
   "outputs": [],
   "source": [
    "# input_data_shape = y_pred.shape\n",
    "# print(\"Jumlah baris yang akan diuji:\", input_data_shape[0])\n"
   ]
  },
  {
   "cell_type": "code",
   "execution_count": null,
   "metadata": {},
   "outputs": [],
   "source": [
    "# from sklearn.metrics import accuracy_score, classification_report\n",
    "\n",
    "# accuracy = accuracy_score(y_test, y_pred)\n",
    "# report = classification_report(y_test, y_pred)\n",
    "\n",
    "# print(f'Accuracy: {accuracy}')\n",
    "# print(f'Classification Report:\\n{report}')\n"
   ]
  },
  {
   "cell_type": "code",
   "execution_count": null,
   "metadata": {},
   "outputs": [],
   "source": [
    "# from sklearn.svm import SVC\n",
    "\n",
    "# # Inisialisasi model SVM\n",
    "# svm_clf = SVC(random_state=42)\n",
    "\n",
    "# # Melatih model\n",
    "# svm_clf.fit(X_train_over, y_train_over)\n",
    "\n",
    "# # Membuat prediksi\n",
    "# y_pred_svm = svm_clf.predict(X_test)\n",
    "\n",
    "# # Evaluasi model\n",
    "# accuracy_svm = accuracy_score(y_test, y_pred_svm)\n",
    "# report_svm = classification_report(y_test, y_pred_svm)\n",
    "\n",
    "# print(f'SVM Accuracy: {accuracy_svm}')\n",
    "# print(f'SVM Classification Report:\\n{report_svm}')\n"
   ]
  },
  {
   "cell_type": "code",
   "execution_count": null,
   "metadata": {},
   "outputs": [],
   "source": [
    "# # Contoh menggunakan XGBoost\n",
    "# from xgboost import XGBClassifier\n",
    "\n",
    "# # Inisialisasi model XGBoost\n",
    "# xgb_clf = XGBClassifier(random_state=42)\n",
    "\n",
    "# # Melatih model\n",
    "# xgb_clf.fit(X_train_over, y_train_over)\n",
    "\n",
    "# # Membuat prediksi\n",
    "# y_pred_xgb = xgb_clf.predict(X_test)\n",
    "\n",
    "# # Evaluasi model\n",
    "# accuracy_xgb = accuracy_score(y_test, y_pred_xgb)\n",
    "# report_xgb = classification_report(y_test, y_pred_xgb)\n",
    "\n",
    "# print(f'XGBoost Accuracy: {accuracy_xgb}')\n",
    "# print(f'XGBoost Classification Report:\\n{report_xgb}')\n"
   ]
  },
  {
   "cell_type": "code",
   "execution_count": null,
   "metadata": {},
   "outputs": [],
   "source": [
    "# from sklearn.ensemble import RandomForestClassifier\n",
    "# from sklearn.metrics import accuracy_score, classification_report\n",
    "\n",
    "# # Inisialisasi model RandomForest dengan penanganan ketidakseimbangan kelas\n",
    "# rf_clf = RandomForestClassifier(class_weight='balanced', random_state=42)\n",
    "\n",
    "# # Melatih model pada data yang sudah dioversampling\n",
    "# rf_clf.fit(X_train_over, y_train_over)\n",
    "\n",
    "# # Membuat prediksi\n",
    "# y_pred_rf = rf_clf.predict(X_test)\n",
    "\n",
    "# # Evaluasi model\n",
    "# accuracy_rf = accuracy_score(y_test, y_pred_rf)\n",
    "# report_rf = classification_report(y_test, y_pred_rf)\n",
    "\n",
    "# print(f'RandomForest Accuracy: {accuracy_rf}')\n",
    "# print(f'RandomForest Classification Report:\\n{report_rf}')\n"
   ]
  },
  {
   "cell_type": "code",
   "execution_count": null,
   "metadata": {},
   "outputs": [],
   "source": [
    "# import optuna\n",
    "# from sklearn.ensemble import RandomForestClassifier\n",
    "# from sklearn.metrics import accuracy_score\n",
    "# from sklearn.model_selection import train_test_split\n",
    "\n",
    "# # Memisahkan variabel independen dan dependen\n",
    "# X = df.drop(columns=['churn'])\n",
    "# y = df['churn']\n",
    "\n",
    "# # Membagi data menjadi train dan tes\n",
    "# X_train, X_test, y_train, y_test = train_test_split(X, y, test_size=0.2, random_state=42)\n",
    "\n",
    "# # Fungsi objektif untuk keseluruhan pembelajaran model\n",
    "# def objective(trial):\n",
    "#     try:\n",
    "#         # Hyperparameter terbaik akan ditemukan dari sini\n",
    "#         param = {\n",
    "#             'n_estimators': trial.suggest_int('n_estimators', 50, 200),\n",
    "#             'max_depth': trial.suggest_int('max_depth', 5, 15),\n",
    "#             'min_samples_split': trial.suggest_int('min_samples_split', 2, 10),\n",
    "#             'min_samples_leaf': trial.suggest_int('min_samples_leaf', 2, 10),\n",
    "#             'max_features': trial.suggest_float('max_features', 0.5, 1.0),\n",
    "#             'bootstrap': trial.suggest_categorical('bootstrap', [True, False])\n",
    "#         }\n",
    "\n",
    "#         # Melatih model\n",
    "#         rf_clf = RandomForestClassifier(**param, random_state=42)\n",
    "#         rf_clf.fit(X_train, y_train)\n",
    "\n",
    "#         # Melakukan Prediksi\n",
    "#         preds = rf_clf.predict(X_test)\n",
    "        \n",
    "#         # Menghitung Akurasi\n",
    "#         accuracy = accuracy_score(y_test, preds)\n",
    "#         return 1.0 - accuracy  # Minimalkan 1 - akurasi karena Optuna mencari nilai minimum\n",
    "\n",
    "#     except Exception as e:\n",
    "#         print(e)\n",
    "#         return np.inf  # Mengembalikan nilai yang besar untuk menunjukkan kegagalan\n",
    "\n",
    "# # Memastikan objek pembelajaran oleh Optuna\n",
    "# study = optuna.create_study(direction='minimize')\n",
    "# study.optimize(objective, n_trials=100)\n",
    "\n",
    "# # Parameter Terbaik\n",
    "# best_params = study.best_params\n",
    "# print('Best parameters:', best_params)\n",
    "\n",
    "# # Melatih model dengan parameter terbaik\n",
    "# best_rf_clf = RandomForestClassifier(**best_params, random_state=42)\n",
    "# best_rf_clf.fit(X_train, y_train)\n",
    "\n",
    "# # Melakukan prediksi pada data uji\n",
    "# y_pred = best_rf_clf.predict(X_test)\n",
    "\n",
    "# # Evaluasi model\n",
    "# accuracy = accuracy_score(y_test, y_pred)\n",
    "# print(f'Accuracy: {accuracy}')\n"
   ]
  },
  {
   "cell_type": "code",
   "execution_count": null,
   "metadata": {},
   "outputs": [],
   "source": [
    "# # Membuat prediksi dengan model yang dioptimalkan\n",
    "# y_pred_optimized = randomized_search.predict(X_test)\n",
    "\n",
    "# # Evaluasi model\n",
    "# accuracy_optimized = accuracy_score(y_test, y_pred_optimized)\n",
    "# report_optimized = classification_report(y_test, y_pred_optimized)\n",
    "\n",
    "# print(f'Optimized RandomForest Accuracy: {accuracy_optimized}')\n",
    "# print(f'Optimized RandomForest Classification Report:\\n{report_optimized}')\n"
   ]
  },
  {
   "cell_type": "code",
   "execution_count": null,
   "metadata": {},
   "outputs": [],
   "source": [
    "\n",
    "submission['churn'] = y_pred\n",
    "submission.churn.value_counts()\n",
    "\n",
    "submission.to_csv(\"C:/IRIS COMPETITION/predict12.csv\", index=False)"
   ]
  },
  {
   "cell_type": "code",
   "execution_count": null,
   "metadata": {},
   "outputs": [
    {
     "name": "stdout",
     "output_type": "stream",
     "text": [
      "RangeIndex(start=0, stop=3000, step=1)\n"
     ]
    }
   ],
   "source": [
    "print(submission.index)\n"
   ]
  }
 ],
 "metadata": {
  "kernelspec": {
   "display_name": "Python 3",
   "language": "python",
   "name": "python3"
  },
  "language_info": {
   "codemirror_mode": {
    "name": "ipython",
    "version": 3
   },
   "file_extension": ".py",
   "mimetype": "text/x-python",
   "name": "python",
   "nbconvert_exporter": "python",
   "pygments_lexer": "ipython3",
   "version": "3.11.0"
  }
 },
 "nbformat": 4,
 "nbformat_minor": 2
}
